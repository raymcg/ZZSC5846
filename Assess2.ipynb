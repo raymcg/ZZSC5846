{
 "cells": [
  {
   "cell_type": "markdown",
   "metadata": {},
   "source": [
    "# Assessment 2 : Data Processing & Modelling\n",
    "\n",
    "Prepared by: Ray McGregor"
   ]
  },
  {
   "cell_type": "markdown",
   "metadata": {},
   "source": [
    "# ADJUSTMENTS\n",
    "\n",
    "Give more focus on the std deviation of the error results as this gives us a measure of Variance.  Give more of an explanation on BIAS and VARIANCE when describing our results.\n",
    "\n",
    "Include the actual results with each explanation instead of just referencing the table.\n",
    "\n",
    "Consider cross correlation between our two key factors as perhaps one reason they are not sufficient.\n",
    "\n",
    "Do a visualisation of the scatter plot for our key factor.\n"
   ]
  },
  {
   "cell_type": "markdown",
   "metadata": {},
   "source": [
    "## Table of Contents\n",
    "\n",
    "PART ONE : DATA PROCESSING\n",
    "\n",
    "- Task 1: Read and Clean Data\n",
    "- Task 2: Correlation of Features and Target Variable\n",
    "- Task 3: Scatter Plots of Two Features\n",
    "- Task 4: Histograms of Two Most Correlated Features\n",
    "- Task 5: Create a Train Test Split\n",
    "\n",
    "PART TWO : MODELLING\n",
    "\n",
    "- Task 1: Develop a Linear Regression Model\n",
    "- Task 2: Run Linear Regression Model With Normalized and Unnormalized Data\n",
    "- Task 3: Run Linear Regression Model with Only Two Input Features\n",
    "- Task 4: Compare the results of the Different Approaches\n",
    "\n"
   ]
  },
  {
   "cell_type": "markdown",
   "metadata": {},
   "source": [
    "## Introduction\n",
    "\n",
    "We are exploring trying to predict the age of abalone from physical measurements and the sex of the abalone.  https://edstem.org/au/courses/13941/lessons/42724/slides/293680\n",
    "\n",
    "The dataset we are using contains a series of abaolone characteristics that we use as our input features as well as the variable we are trying to predict, ring age.\n",
    "- #Source: https://archive.ics.uci.edu/ml/datasets/abalone\n",
    "\n",
    "The method we are using to try and predict the age of the abalone is a Linear Regression and the specific model we selected for the task is the LinearRegression model from Scitkit Learn.\n",
    "- #Source: Scikit Learn. (n.d). Linear Regression Example. https://scikit-learn.org/stable/auto_examples/linear_model/plot_ols.html \n",
    "\n",
    "In making the prediction, we are also exploring various concepts related to the process including:\n",
    "- obtaining and cleaning the data\n",
    "- looking at how the input factors in the data are correlated to assist us with feature selection decisions\n",
    "- creating train and test datasets to allow us to train our model and then test how it operates on unseen data\n",
    "- exploring the impact of normalising the data\n",
    "- exploring the results of using a wider range of factors vs the two most highly correlated input factors\n"
   ]
  },
  {
   "cell_type": "markdown",
   "metadata": {},
   "source": [
    "Import Libaries"
   ]
  },
  {
   "cell_type": "code",
   "execution_count": 1,
   "metadata": {},
   "outputs": [],
   "source": [
    "import pandas as pd\n",
    "import numpy as np\n",
    "\n",
    "from sklearn.model_selection import train_test_split\n",
    "from sklearn import datasets, linear_model\n",
    "from sklearn.metrics import mean_squared_error, r2_score\n",
    "from sklearn.metrics import accuracy_score \n",
    "from sklearn.preprocessing import Normalizer\n",
    "\n",
    "import random\n",
    "\n",
    "import matplotlib.pyplot as plt\n",
    "\n",
    "import dataframe_image as dfi\n"
   ]
  },
  {
   "cell_type": "markdown",
   "metadata": {},
   "source": [
    "# PART ONE: DATA PROCESSING"
   ]
  },
  {
   "cell_type": "markdown",
   "metadata": {},
   "source": [
    "## Task 1.1 Read and Clean Data"
   ]
  },
  {
   "cell_type": "code",
   "execution_count": 2,
   "metadata": {},
   "outputs": [],
   "source": [
    "# Read the data from the input file\n",
    "input_df = pd.read_csv('C:/Dropbox/Variance/UNSW/ZZSC5836/raw_data/abalone.data', header=None)\n",
    "input_df.columns = [\"Sex\",\"Length\", \"Diameter\", \"Height\", \"Whole Weight\", \"Shucked weight\", \"Viscera Weight\", \"Shell Weight\", \"Rings\"]\n",
    "\n",
    "# Task 1: Convert M, F and I to 0, 1 and \n",
    "input_df['Sex'] = input_df['Sex'].replace({\"M\": 0, \"F\": 1, \"I\": 2})"
   ]
  },
  {
   "cell_type": "code",
   "execution_count": 3,
   "metadata": {},
   "outputs": [
    {
     "data": {
      "text/html": [
       "<div>\n",
       "<style scoped>\n",
       "    .dataframe tbody tr th:only-of-type {\n",
       "        vertical-align: middle;\n",
       "    }\n",
       "\n",
       "    .dataframe tbody tr th {\n",
       "        vertical-align: top;\n",
       "    }\n",
       "\n",
       "    .dataframe thead th {\n",
       "        text-align: right;\n",
       "    }\n",
       "</style>\n",
       "<table border=\"1\" class=\"dataframe\">\n",
       "  <thead>\n",
       "    <tr style=\"text-align: right;\">\n",
       "      <th></th>\n",
       "      <th>Sex</th>\n",
       "      <th>Length</th>\n",
       "      <th>Diameter</th>\n",
       "      <th>Height</th>\n",
       "      <th>Whole Weight</th>\n",
       "      <th>Shucked weight</th>\n",
       "      <th>Viscera Weight</th>\n",
       "      <th>Shell Weight</th>\n",
       "      <th>Rings</th>\n",
       "    </tr>\n",
       "  </thead>\n",
       "  <tbody>\n",
       "    <tr>\n",
       "      <th>count</th>\n",
       "      <td>4177.000000</td>\n",
       "      <td>4177.000000</td>\n",
       "      <td>4177.000000</td>\n",
       "      <td>4177.000000</td>\n",
       "      <td>4177.000000</td>\n",
       "      <td>4177.000000</td>\n",
       "      <td>4177.000000</td>\n",
       "      <td>4177.000000</td>\n",
       "      <td>4177.000000</td>\n",
       "    </tr>\n",
       "    <tr>\n",
       "      <th>mean</th>\n",
       "      <td>0.955470</td>\n",
       "      <td>0.523992</td>\n",
       "      <td>0.407881</td>\n",
       "      <td>0.139516</td>\n",
       "      <td>0.828742</td>\n",
       "      <td>0.359367</td>\n",
       "      <td>0.180594</td>\n",
       "      <td>0.238831</td>\n",
       "      <td>9.933684</td>\n",
       "    </tr>\n",
       "    <tr>\n",
       "      <th>std</th>\n",
       "      <td>0.827815</td>\n",
       "      <td>0.120093</td>\n",
       "      <td>0.099240</td>\n",
       "      <td>0.041827</td>\n",
       "      <td>0.490389</td>\n",
       "      <td>0.221963</td>\n",
       "      <td>0.109614</td>\n",
       "      <td>0.139203</td>\n",
       "      <td>3.224169</td>\n",
       "    </tr>\n",
       "    <tr>\n",
       "      <th>min</th>\n",
       "      <td>0.000000</td>\n",
       "      <td>0.075000</td>\n",
       "      <td>0.055000</td>\n",
       "      <td>0.000000</td>\n",
       "      <td>0.002000</td>\n",
       "      <td>0.001000</td>\n",
       "      <td>0.000500</td>\n",
       "      <td>0.001500</td>\n",
       "      <td>1.000000</td>\n",
       "    </tr>\n",
       "    <tr>\n",
       "      <th>25%</th>\n",
       "      <td>0.000000</td>\n",
       "      <td>0.450000</td>\n",
       "      <td>0.350000</td>\n",
       "      <td>0.115000</td>\n",
       "      <td>0.441500</td>\n",
       "      <td>0.186000</td>\n",
       "      <td>0.093500</td>\n",
       "      <td>0.130000</td>\n",
       "      <td>8.000000</td>\n",
       "    </tr>\n",
       "    <tr>\n",
       "      <th>50%</th>\n",
       "      <td>1.000000</td>\n",
       "      <td>0.545000</td>\n",
       "      <td>0.425000</td>\n",
       "      <td>0.140000</td>\n",
       "      <td>0.799500</td>\n",
       "      <td>0.336000</td>\n",
       "      <td>0.171000</td>\n",
       "      <td>0.234000</td>\n",
       "      <td>9.000000</td>\n",
       "    </tr>\n",
       "    <tr>\n",
       "      <th>75%</th>\n",
       "      <td>2.000000</td>\n",
       "      <td>0.615000</td>\n",
       "      <td>0.480000</td>\n",
       "      <td>0.165000</td>\n",
       "      <td>1.153000</td>\n",
       "      <td>0.502000</td>\n",
       "      <td>0.253000</td>\n",
       "      <td>0.329000</td>\n",
       "      <td>11.000000</td>\n",
       "    </tr>\n",
       "    <tr>\n",
       "      <th>max</th>\n",
       "      <td>2.000000</td>\n",
       "      <td>0.815000</td>\n",
       "      <td>0.650000</td>\n",
       "      <td>1.130000</td>\n",
       "      <td>2.825500</td>\n",
       "      <td>1.488000</td>\n",
       "      <td>0.760000</td>\n",
       "      <td>1.005000</td>\n",
       "      <td>29.000000</td>\n",
       "    </tr>\n",
       "  </tbody>\n",
       "</table>\n",
       "</div>"
      ],
      "text/plain": [
       "               Sex       Length     Diameter       Height  Whole Weight  \\\n",
       "count  4177.000000  4177.000000  4177.000000  4177.000000   4177.000000   \n",
       "mean      0.955470     0.523992     0.407881     0.139516      0.828742   \n",
       "std       0.827815     0.120093     0.099240     0.041827      0.490389   \n",
       "min       0.000000     0.075000     0.055000     0.000000      0.002000   \n",
       "25%       0.000000     0.450000     0.350000     0.115000      0.441500   \n",
       "50%       1.000000     0.545000     0.425000     0.140000      0.799500   \n",
       "75%       2.000000     0.615000     0.480000     0.165000      1.153000   \n",
       "max       2.000000     0.815000     0.650000     1.130000      2.825500   \n",
       "\n",
       "       Shucked weight  Viscera Weight  Shell Weight        Rings  \n",
       "count     4177.000000     4177.000000   4177.000000  4177.000000  \n",
       "mean         0.359367        0.180594      0.238831     9.933684  \n",
       "std          0.221963        0.109614      0.139203     3.224169  \n",
       "min          0.001000        0.000500      0.001500     1.000000  \n",
       "25%          0.186000        0.093500      0.130000     8.000000  \n",
       "50%          0.336000        0.171000      0.234000     9.000000  \n",
       "75%          0.502000        0.253000      0.329000    11.000000  \n",
       "max          1.488000        0.760000      1.005000    29.000000  "
      ]
     },
     "execution_count": 3,
     "metadata": {},
     "output_type": "execute_result"
    }
   ],
   "source": [
    "# Summary Statistics for our Dataset\n",
    "input_df.describe()"
   ]
  },
  {
   "cell_type": "markdown",
   "metadata": {},
   "source": [
    "## Task 1.2 Correlation Heat Map"
   ]
  },
  {
   "cell_type": "markdown",
   "metadata": {},
   "source": [
    "### Correlation Matrix"
   ]
  },
  {
   "cell_type": "markdown",
   "metadata": {},
   "source": [
    "Create a correlation matrix and display the results in tabular format."
   ]
  },
  {
   "cell_type": "code",
   "execution_count": 4,
   "metadata": {},
   "outputs": [
    {
     "data": {
      "text/html": [
       "<div>\n",
       "<style scoped>\n",
       "    .dataframe tbody tr th:only-of-type {\n",
       "        vertical-align: middle;\n",
       "    }\n",
       "\n",
       "    .dataframe tbody tr th {\n",
       "        vertical-align: top;\n",
       "    }\n",
       "\n",
       "    .dataframe thead th {\n",
       "        text-align: right;\n",
       "    }\n",
       "</style>\n",
       "<table border=\"1\" class=\"dataframe\">\n",
       "  <thead>\n",
       "    <tr style=\"text-align: right;\">\n",
       "      <th></th>\n",
       "      <th>Sex</th>\n",
       "      <th>Length</th>\n",
       "      <th>Diameter</th>\n",
       "      <th>Height</th>\n",
       "      <th>Whole Weight</th>\n",
       "      <th>Shucked weight</th>\n",
       "      <th>Viscera Weight</th>\n",
       "      <th>Shell Weight</th>\n",
       "      <th>Rings</th>\n",
       "    </tr>\n",
       "  </thead>\n",
       "  <tbody>\n",
       "    <tr>\n",
       "      <th>Sex</th>\n",
       "      <td>1.000000</td>\n",
       "      <td>-0.448765</td>\n",
       "      <td>-0.458245</td>\n",
       "      <td>-0.417928</td>\n",
       "      <td>-0.461238</td>\n",
       "      <td>-0.440927</td>\n",
       "      <td>-0.454658</td>\n",
       "      <td>-0.445549</td>\n",
       "      <td>-0.351822</td>\n",
       "    </tr>\n",
       "    <tr>\n",
       "      <th>Length</th>\n",
       "      <td>-0.448765</td>\n",
       "      <td>1.000000</td>\n",
       "      <td>0.986812</td>\n",
       "      <td>0.827554</td>\n",
       "      <td>0.925261</td>\n",
       "      <td>0.897914</td>\n",
       "      <td>0.903018</td>\n",
       "      <td>0.897706</td>\n",
       "      <td>0.556720</td>\n",
       "    </tr>\n",
       "    <tr>\n",
       "      <th>Diameter</th>\n",
       "      <td>-0.458245</td>\n",
       "      <td>0.986812</td>\n",
       "      <td>1.000000</td>\n",
       "      <td>0.833684</td>\n",
       "      <td>0.925452</td>\n",
       "      <td>0.893162</td>\n",
       "      <td>0.899724</td>\n",
       "      <td>0.905330</td>\n",
       "      <td>0.574660</td>\n",
       "    </tr>\n",
       "    <tr>\n",
       "      <th>Height</th>\n",
       "      <td>-0.417928</td>\n",
       "      <td>0.827554</td>\n",
       "      <td>0.833684</td>\n",
       "      <td>1.000000</td>\n",
       "      <td>0.819221</td>\n",
       "      <td>0.774972</td>\n",
       "      <td>0.798319</td>\n",
       "      <td>0.817338</td>\n",
       "      <td>0.557467</td>\n",
       "    </tr>\n",
       "    <tr>\n",
       "      <th>Whole Weight</th>\n",
       "      <td>-0.461238</td>\n",
       "      <td>0.925261</td>\n",
       "      <td>0.925452</td>\n",
       "      <td>0.819221</td>\n",
       "      <td>1.000000</td>\n",
       "      <td>0.969405</td>\n",
       "      <td>0.966375</td>\n",
       "      <td>0.955355</td>\n",
       "      <td>0.540390</td>\n",
       "    </tr>\n",
       "    <tr>\n",
       "      <th>Shucked weight</th>\n",
       "      <td>-0.440927</td>\n",
       "      <td>0.897914</td>\n",
       "      <td>0.893162</td>\n",
       "      <td>0.774972</td>\n",
       "      <td>0.969405</td>\n",
       "      <td>1.000000</td>\n",
       "      <td>0.931961</td>\n",
       "      <td>0.882617</td>\n",
       "      <td>0.420884</td>\n",
       "    </tr>\n",
       "    <tr>\n",
       "      <th>Viscera Weight</th>\n",
       "      <td>-0.454658</td>\n",
       "      <td>0.903018</td>\n",
       "      <td>0.899724</td>\n",
       "      <td>0.798319</td>\n",
       "      <td>0.966375</td>\n",
       "      <td>0.931961</td>\n",
       "      <td>1.000000</td>\n",
       "      <td>0.907656</td>\n",
       "      <td>0.503819</td>\n",
       "    </tr>\n",
       "    <tr>\n",
       "      <th>Shell Weight</th>\n",
       "      <td>-0.445549</td>\n",
       "      <td>0.897706</td>\n",
       "      <td>0.905330</td>\n",
       "      <td>0.817338</td>\n",
       "      <td>0.955355</td>\n",
       "      <td>0.882617</td>\n",
       "      <td>0.907656</td>\n",
       "      <td>1.000000</td>\n",
       "      <td>0.627574</td>\n",
       "    </tr>\n",
       "    <tr>\n",
       "      <th>Rings</th>\n",
       "      <td>-0.351822</td>\n",
       "      <td>0.556720</td>\n",
       "      <td>0.574660</td>\n",
       "      <td>0.557467</td>\n",
       "      <td>0.540390</td>\n",
       "      <td>0.420884</td>\n",
       "      <td>0.503819</td>\n",
       "      <td>0.627574</td>\n",
       "      <td>1.000000</td>\n",
       "    </tr>\n",
       "  </tbody>\n",
       "</table>\n",
       "</div>"
      ],
      "text/plain": [
       "                     Sex    Length  Diameter    Height  Whole Weight  \\\n",
       "Sex             1.000000 -0.448765 -0.458245 -0.417928     -0.461238   \n",
       "Length         -0.448765  1.000000  0.986812  0.827554      0.925261   \n",
       "Diameter       -0.458245  0.986812  1.000000  0.833684      0.925452   \n",
       "Height         -0.417928  0.827554  0.833684  1.000000      0.819221   \n",
       "Whole Weight   -0.461238  0.925261  0.925452  0.819221      1.000000   \n",
       "Shucked weight -0.440927  0.897914  0.893162  0.774972      0.969405   \n",
       "Viscera Weight -0.454658  0.903018  0.899724  0.798319      0.966375   \n",
       "Shell Weight   -0.445549  0.897706  0.905330  0.817338      0.955355   \n",
       "Rings          -0.351822  0.556720  0.574660  0.557467      0.540390   \n",
       "\n",
       "                Shucked weight  Viscera Weight  Shell Weight     Rings  \n",
       "Sex                  -0.440927       -0.454658     -0.445549 -0.351822  \n",
       "Length                0.897914        0.903018      0.897706  0.556720  \n",
       "Diameter              0.893162        0.899724      0.905330  0.574660  \n",
       "Height                0.774972        0.798319      0.817338  0.557467  \n",
       "Whole Weight          0.969405        0.966375      0.955355  0.540390  \n",
       "Shucked weight        1.000000        0.931961      0.882617  0.420884  \n",
       "Viscera Weight        0.931961        1.000000      0.907656  0.503819  \n",
       "Shell Weight          0.882617        0.907656      1.000000  0.627574  \n",
       "Rings                 0.420884        0.503819      0.627574  1.000000  "
      ]
     },
     "execution_count": 4,
     "metadata": {},
     "output_type": "execute_result"
    }
   ],
   "source": [
    "corr_matrix = input_df.corr()\n",
    "corr_matrix"
   ]
  },
  {
   "cell_type": "markdown",
   "metadata": {},
   "source": [
    "Isolate the correlation levels of the factors with Rings"
   ]
  },
  {
   "cell_type": "code",
   "execution_count": 5,
   "metadata": {},
   "outputs": [
    {
     "name": "stdout",
     "output_type": "stream",
     "text": [
      "The correlation of Rings with other variables\n",
      "\n",
      "Shell Weight      0.627574\n",
      "Diameter          0.574660\n",
      "Height            0.557467\n",
      "Length            0.556720\n",
      "Whole Weight      0.540390\n",
      "Viscera Weight    0.503819\n",
      "Shucked weight    0.420884\n",
      "Sex              -0.351822\n",
      "Name: Rings, dtype: float64\n"
     ]
    }
   ],
   "source": [
    "corr_rings = corr_matrix['Rings'].sort_values(ascending=False)\n",
    "print('The correlation of Rings with other variables\\n')\n",
    "print(corr_rings[1:])"
   ]
  },
  {
   "cell_type": "markdown",
   "metadata": {},
   "source": [
    "### Create a Heatmap"
   ]
  },
  {
   "cell_type": "code",
   "execution_count": 6,
   "metadata": {},
   "outputs": [
    {
     "data": {
      "image/png": "[encoded data removed]",
      "text/plain": [
       "<Figure size 432x288 with 2 Axes>"
      ]
     },
     "metadata": {
      "needs_background": "light"
     },
     "output_type": "display_data"
    },
    {
     "data": {
      "text/plain": [
       "<Figure size 432x288 with 0 Axes>"
      ]
     },
     "metadata": {},
     "output_type": "display_data"
    }
   ],
   "source": [
    "plt.imshow(corr_matrix, cmap='hot') \n",
    "plt.colorbar()\n",
    "plt.xticks(range(input_df.shape[1]), input_df.columns, rotation=90)\n",
    "plt.yticks(range(input_df.shape[1]), input_df.columns)\n",
    "\n",
    "plt.show()\n",
    "plt.savefig('C:/Dropbox/Variance/UNSW/ZZSC5836/heatmap.png')"
   ]
  },
  {
   "cell_type": "markdown",
   "metadata": {},
   "source": [
    "### Observations From Correlations\n",
    "\n",
    "- Sex is negatively correlated with all the other factors, including our target variable Rings.  Sex is the only factor which has negative correlations to any other factor.  This is probably at least partial due to how we coded the Sex (0 for Males, 1 for Females and 2 for Infants).  We would would expect the size and age of the Males and Females to be greater than the Infants and thus the negative correlation.  However, given this level of detail, it is difficult to know what correlation between Ring Age and Male vs Female.  We could obviously explore this though via more detailed analysis and is something would seem worth exploring.\n",
    "\n",
    "- The factor which is most strongly correlated with our target variable Rings is Shell Weight with a correlation of 0.63.\n",
    "\n",
    "- All the factors show some level of correlation as even the factor with the lowest level of correlation (Sex) has an absolute correlation level of 0.3518.\n",
    "\n",
    "- The correlation levels between the Height and Length with Rings is almost identical which may mean they are overlapping factors.  This seems to be supported by the correlation level between them being high at 0.827.\n",
    "\n",
    "- There is a very strong correlation between several of the factors which is something to consider when modelling our data (relevant for things such as feature selection and feature engineering).  We've displayed those within a dataframe to supplement our heat map. "
   ]
  },
  {
   "cell_type": "markdown",
   "metadata": {},
   "source": [
    "## Task 1.3 Scatter Plots"
   ]
  },
  {
   "cell_type": "code",
   "execution_count": 7,
   "metadata": {},
   "outputs": [
    {
     "name": "stdout",
     "output_type": "stream",
     "text": [
      "The two factors with highest correlation to Rings are Shell Weight and Diameter.\n"
     ]
    },
    {
     "data": {
      "image/png": "[encoded data removed]",
      "text/plain": [
       "<Figure size 432x288 with 1 Axes>"
      ]
     },
     "metadata": {
      "needs_background": "light"
     },
     "output_type": "display_data"
    },
    {
     "data": {
      "image/png": "[encoded data removed]",
      "text/plain": [
       "<Figure size 432x288 with 1 Axes>"
      ]
     },
     "metadata": {
      "needs_background": "light"
     },
     "output_type": "display_data"
    },
    {
     "data": {
      "text/plain": [
       "Rings             1.000000\n",
       "Shell Weight      0.627574\n",
       "Diameter          0.574660\n",
       "Height            0.557467\n",
       "Length            0.556720\n",
       "Whole Weight      0.540390\n",
       "Viscera Weight    0.503819\n",
       "Shucked weight    0.420884\n",
       "Sex              -0.351822\n",
       "Name: Rings, dtype: float64"
      ]
     },
     "execution_count": 7,
     "metadata": {},
     "output_type": "execute_result"
    },
    {
     "data": {
      "text/plain": [
       "<Figure size 432x288 with 0 Axes>"
      ]
     },
     "metadata": {},
     "output_type": "display_data"
    }
   ],
   "source": [
    "print(f\"The two factors with highest correlation to Rings are {corr_rings.index[1]} and {corr_rings.index[2]}.\")\n",
    "\n",
    "for i in [1,2]:\n",
    "    # Create a scatter plot of the two factors with highest correlation to Rings\n",
    "    plt.scatter(input_df[corr_rings.index[0]], input_df[corr_rings.index[i]])\n",
    "\n",
    "    plt.title(f\"Scatter plot {corr_rings.index[i]} Vs Ring Age\")\n",
    "    plt.xlabel(corr_rings.index[0])\n",
    "    plt.ylabel(corr_rings.index[i])\n",
    "    plt.show()\n",
    "    fname = f\"scatter_plot_{str(i)}.png\"\n",
    "    plt.savefig(fname)\n",
    "\n",
    "corr_rings\n"
   ]
  },
  {
   "cell_type": "markdown",
   "metadata": {},
   "source": [
    "### Observations From Scatter Plots\n",
    "\n",
    "1. Both plots indicate a definite trend of Diameter and Shell Weight increasing as the number of rings increase.  This is consistent with the relatively strong positive numerical correlation value.  Visually, the strength of that relationship is not obviously different between the two factors which again is consistent with the numerical correlation values of (0.63 and 0.57) being relatively close.\n",
    "\n",
    "2. The scatter plots show signficantly fewer values for Rings > 6 and < 22.5 which is obvious enough to warrant investigation into why this is the case.  Is it something to do with our specific sample, or is it representative of the entire population and for both instances, why?\n",
    "\n",
    "3.  Most of the 'outliers' shown in the graph appear to be related to the age of the sample item (low number of rings or high number of rings) but consistent with the positive correlation noted.  That is, while there are some 'outliers' in they have a number of rings above 25, or less than 4, the values for those outliers do generally seem to follow the correlation patter for the overall population.  While the impact of outliers should still be considered, the plots shown seem to indicate that the outliers will impact on our models less than other populations with more extreme outliers.\n",
    "\n",
    "4.  The distribution of the Diameter plot differs in shape from the distribution of the Shell Weight plot.  Distribution shape is important for several reasons, including that it often relevant when applying prediciton models as many of the prediction models make assumptions about the nature of the distribution of the underlying data set.\n",
    "\n",
    "5.  There is a not a large disparity between the absolute values of the two factors plotted.  That is, the values for both Diameter and Shell Weight are almost all less than one and there are are no negative values.  Contrast this to a population where the maximum of some factors are may be 1 but other 1,000,000."
   ]
  },
  {
   "cell_type": "markdown",
   "metadata": {},
   "source": [
    "## Task 1.4 Histograms"
   ]
  },
  {
   "cell_type": "code",
   "execution_count": 8,
   "metadata": {},
   "outputs": [
    {
     "data": {
      "image/png": "[encoded data removed]",
      "text/plain": [
       "<Figure size 432x288 with 1 Axes>"
      ]
     },
     "metadata": {
      "needs_background": "light"
     },
     "output_type": "display_data"
    },
    {
     "data": {
      "image/png": "[encoded data removed]",
      "text/plain": [
       "<Figure size 432x288 with 1 Axes>"
      ]
     },
     "metadata": {
      "needs_background": "light"
     },
     "output_type": "display_data"
    },
    {
     "data": {
      "image/png": "[encoded data removed]",
      "text/plain": [
       "<Figure size 432x288 with 1 Axes>"
      ]
     },
     "metadata": {
      "needs_background": "light"
     },
     "output_type": "display_data"
    },
    {
     "data": {
      "text/plain": [
       "Rings             1.000000\n",
       "Shell Weight      0.627574\n",
       "Diameter          0.574660\n",
       "Height            0.557467\n",
       "Length            0.556720\n",
       "Whole Weight      0.540390\n",
       "Viscera Weight    0.503819\n",
       "Shucked weight    0.420884\n",
       "Sex              -0.351822\n",
       "Name: Rings, dtype: float64"
      ]
     },
     "execution_count": 8,
     "metadata": {},
     "output_type": "execute_result"
    },
    {
     "data": {
      "text/plain": [
       "<Figure size 432x288 with 0 Axes>"
      ]
     },
     "metadata": {},
     "output_type": "display_data"
    }
   ],
   "source": [
    "for i in [0, 1,2]:\n",
    "    # Create a histogram plot of the two factors with highest correlation to Rings\n",
    "    plt.hist(input_df[corr_rings.index[i]])\n",
    "\n",
    "    plt.title(f\"Histogram for {corr_rings.index[i]}\")\n",
    "    plt.xlabel(corr_rings.index[i])\n",
    "    plt.ylabel(\"Frequency\")\n",
    "    plt.axvline(input_df[corr_rings.index[i]].mean(), color='k', linestyle='dashed', linewidth=1) # Mean\n",
    "    plt.axvline(input_df[corr_rings.index[i]].median(), color='r', linestyle='dashed', linewidth=1) # Median\n",
    "\n",
    "    plt.show()\n",
    "    fname = f\"histogram_{str(i)}.png\"\n",
    "    plt.savefig(fname)\n",
    "\n",
    "corr_rings"
   ]
  },
  {
   "cell_type": "markdown",
   "metadata": {},
   "source": [
    "### Histogram Observations\n",
    "\n",
    "1.  The three population values appear to have quite different distribution shapes. None of the three appear to be normally distributed but all three share some characteristics of a normal distribution with the highest frequencies being central to the distribution and then then tailing off to the higher and lower values.  However, the 'tails' of the distribution are not as symmetrical as you would expect to see for a normal distribution.\n",
    "\n",
    "2.  All three populations show a large percentage of values within relatively narrow range.  This is especially true for Rings and Shell Weight and a little less so for Diameter which does show a more stepped frequency leading up the median frequency.\n",
    "\n"
   ]
  },
  {
   "cell_type": "markdown",
   "metadata": {},
   "source": [
    "# Task 1.5 Create a 60/ 40 Train Test Split"
   ]
  },
  {
   "cell_type": "code",
   "execution_count": 9,
   "metadata": {},
   "outputs": [],
   "source": [
    "def generate_data(source_df, exp_num, test_size = 0.4):\n",
    "\n",
    "    x_train, x_test = train_test_split(source_df.values[:,:-1], test_size=test_size, random_state=exp_num)\n",
    "    y_train, y_test = train_test_split(source_df.values[:,-1], test_size=test_size, random_state=exp_num)\n",
    "\n",
    "    return x_train, x_test, y_train, y_test"
   ]
  },
  {
   "cell_type": "code",
   "execution_count": 10,
   "metadata": {},
   "outputs": [
    {
     "name": "stdout",
     "output_type": "stream",
     "text": [
      "Experiment Number: 2\n",
      "X_train:  [[0.     0.375  0.28   0.095  0.2225 0.0875 0.043  0.08  ]]\n",
      "Y_train:  [10.]\n",
      "X_test:  [[1.     0.46   0.38   0.13   0.639  0.3    0.1525 0.16  ]]\n",
      "Y_test:  [11.]\n"
     ]
    }
   ],
   "source": [
    "## Sample Run of Train Test Split Function\n",
    "experiment_num = 2\n",
    "print(f\"Experiment Number: {experiment_num}\")\n",
    "\n",
    "# Run Function to generate train and test data: Using all factors and a 60/40 Train Test Split and Not Normalized\n",
    "x_train, x_test, y_train, y_test = generate_data(input_df, experiment_num, test_size = 0.4)\n",
    "\n",
    "# Print first record of each set\n",
    "print('X_train: ', x_train[:1])\n",
    "print('Y_train: ', y_train[:1])\n",
    "print('X_test: ', x_test[:1])\n",
    "print('Y_test: ', y_test[:1]) "
   ]
  },
  {
   "cell_type": "markdown",
   "metadata": {},
   "source": [
    "# PART TWO : MODELLING"
   ]
  },
  {
   "cell_type": "markdown",
   "metadata": {},
   "source": [
    "## 2.1 Linear Regression Model"
   ]
  },
  {
   "cell_type": "markdown",
   "metadata": {},
   "source": [
    "### Define Functions for Performing our Regression Analysis"
   ]
  },
  {
   "cell_type": "code",
   "execution_count": 11,
   "metadata": {},
   "outputs": [],
   "source": [
    "def scipy_linear_mod(x_train, x_test, y_train, y_test):\n",
    "    #Source: Scikit Learn. (n.d). Linear Regression Example. https://scikit-learn.org/stable/auto_examples/linear_model/plot_ols.html \n",
    "\n",
    "    regr = linear_model.LinearRegression()\n",
    "\n",
    "    # Train the model using the training sets\n",
    "    regr.fit(x_train, y_train)\n",
    "\n",
    "    # Make predictions using the testing set\n",
    "    y_pred_train = regr.predict(x_train)\n",
    "    y_pred_test = regr.predict(x_test)\n",
    "\n",
    "    rmse_train = np.sqrt(mean_squared_error(y_train, y_pred_train))\n",
    "    r2_train = r2_score(y_train, y_pred_train)\n",
    "\n",
    "    rmse_test = np.sqrt(mean_squared_error(y_test, y_pred_test))\n",
    "    r2_test = r2_score(y_test, y_pred_test)\n",
    "\n",
    "    return rmse_train, r2_train, rmse_test, r2_test, y_pred_test"
   ]
  },
  {
   "cell_type": "code",
   "execution_count": 12,
   "metadata": {},
   "outputs": [],
   "source": [
    "# Source: Exercise 1.2 Solution\n",
    "def run_lin_regression_experiments(variation_df, normalization = False): \n",
    " \n",
    "    # Set Maxiumum Number of Experiments\n",
    "    max_exp = 30\n",
    "\n",
    "    # Initilize lists to store results\n",
    "    rmse_train_list, rsq_train_list = np.zeros(max_exp), np.zeros(max_exp)\n",
    "    rmse_test_list, rsq_test_list = np.zeros(max_exp), np.zeros(max_exp)\n",
    "    \n",
    "    print(f\"\\nRunning for {max_exp} experiments\")\n",
    "    print(f\"Factors: {list(variation_df.columns[:-1])} | Normalization: {normalization}\\n\")\n",
    "\n",
    "    for exp_num in range(max_exp):\n",
    "\n",
    "        #Generate Train Test Using All Factors, Without Normalization\n",
    "        x_train, x_test, y_train, y_test = generate_data(variation_df, exp_num, test_size = 0.4)\n",
    "\n",
    "        # normalize training sets if required\n",
    "        if normalization:\n",
    "            normalizer = Normalizer()\n",
    "            x_train = normalizer.fit_transform(x_train)\n",
    "            x_test = normalizer.transform(x_test)\n",
    "\n",
    "        # Run OLS Linear Regression Model\n",
    "        rmse_train, r2_train, rmse_test, r2_test, y_pred_test = scipy_linear_mod(x_train, x_test, y_train, y_test)\n",
    "        \n",
    "        rmse_train_list[exp_num], rsq_train_list[exp_num] = rmse_train, r2_train\n",
    "        rmse_test_list[exp_num], rsq_test_list[exp_num] = rmse_test, r2_test\n",
    "\n",
    "    # Insert results into lists storing results for EACH experiement\n",
    "    mean_rmse_train, std_rmse_train = np.mean(rmse_train_list), np.std(rmse_train_list)\n",
    "    mean_rsq_train, std_rsq_train = np.mean(rsq_train_list), np.std(rsq_train_list)\n",
    "\n",
    "    mean_rmse_test, std_rmse_test = np.mean(rmse_test_list), np.std(rmse_test_list)\n",
    "    mean_rsq_test, std_rsq_test = np.mean(rsq_test_list), np.std(rsq_test_list)    \n",
    "\n",
    "    print(\"Training RMSE Scores For Each Experiment\")\n",
    "    #print(rmse_train_list)\n",
    "    print(f\"{mean_rmse_train=}, {std_rmse_train=}\")\n",
    "\n",
    "    print(\"Test RMSE Scores for Each Experiment\")\n",
    "    #print(rmse_test_list)\n",
    "    print(f\"{mean_rmse_test=}, {std_rmse_test=}\\n\")\n",
    "\n",
    "    print(\"Training R2 Scores for Each Experiment\")\n",
    "    #print(rsq_train_list)\n",
    "    print(f\"{mean_rsq_train}=, {std_rsq_train=}\")\n",
    "\n",
    "    print(\"Test R2 Scores for Each Experiment\")\n",
    "    #print(rsq_test_list)\n",
    "    print(f\"{mean_rsq_test=}, {std_rsq_test=}\")\n",
    "    \n",
    "    # Create a dictionary of results to give a summary of them in one container\n",
    "    results_dict = {\"mean_rmse_train\": mean_rmse_train, \"mean_rmse_test\": mean_rmse_test, \n",
    "                    \"std_rmse_train\": std_rmse_train, \"std_rmse_test\": std_rmse_test, \n",
    "                    \"mean_rsq_train\": mean_rsq_train, \"mean_rsq_test\": mean_rsq_test, \n",
    "                    \"std_rsq_train\": std_rsq_train, \"std_rsq_test\": std_rsq_test, \n",
    "                    \"y_pred_test\": y_pred_test}\n",
    "    \n",
    "    results_array = list(results_dict.values())[:-1] # Will use to create our comparison df\n",
    "\n",
    "    return results_dict, results_array\n",
    "\n"
   ]
  },
  {
   "cell_type": "markdown",
   "metadata": {},
   "source": [
    "## 2.2 All Features, No Normalization"
   ]
  },
  {
   "cell_type": "code",
   "execution_count": 13,
   "metadata": {},
   "outputs": [
    {
     "name": "stdout",
     "output_type": "stream",
     "text": [
      "\n",
      "Running for 30 experiments\n",
      "Factors: ['Sex', 'Length', 'Diameter', 'Height', 'Whole Weight', 'Shucked weight', 'Viscera Weight', 'Shell Weight'] | Normalization: False\n",
      "\n",
      "Training RMSE Scores For Each Experiment\n",
      "mean_rmse_train=2.1835120111360715, std_rmse_train=0.03215606520775441\n",
      "Test RMSE Scores for Each Experiment\n",
      "mean_rmse_test=2.234785573216999, std_rmse_test=0.0506020902142662\n",
      "\n",
      "Training R2 Scores for Each Experiment\n",
      "0.5398883815628942=, std_rsq_train=0.011285295555290413\n",
      "Test R2 Scores for Each Experiment\n",
      "mean_rsq_test=0.5204818164392813, std_rsq_test=0.022104630814442073\n"
     ]
    }
   ],
   "source": [
    "# Run For All Factors, No Normalisation\n",
    "results_dict, results_array = run_lin_regression_experiments(input_df, normalization = False)\n",
    "\n",
    "# Create a dataframe from results_array to store the results\n",
    "comparison_df = pd.DataFrame(data=[results_array], columns = list(results_dict.keys())[:-1])\n",
    "comparison_df.index = ['All Factors, No Normalization']"
   ]
  },
  {
   "cell_type": "markdown",
   "metadata": {},
   "source": [
    "## Qustion 2.2: All Features, With Normalization"
   ]
  },
  {
   "cell_type": "code",
   "execution_count": 14,
   "metadata": {},
   "outputs": [
    {
     "name": "stdout",
     "output_type": "stream",
     "text": [
      "\n",
      "Running for 30 experiments\n",
      "Factors: ['Sex', 'Length', 'Diameter', 'Height', 'Whole Weight', 'Shucked weight', 'Viscera Weight', 'Shell Weight'] | Normalization: True\n",
      "\n",
      "Training RMSE Scores For Each Experiment\n",
      "mean_rmse_train=2.153997524918867, std_rmse_train=0.02919840608475373\n",
      "Test RMSE Scores for Each Experiment\n",
      "mean_rmse_test=2.184666217489276, std_rmse_test=0.04290735336508189\n",
      "\n",
      "Training R2 Scores for Each Experiment\n",
      "0.5522827696005846=, std_rsq_train=0.008413247478358088\n",
      "Test R2 Scores for Each Experiment\n",
      "mean_rsq_test=0.5419857466619026, std_rsq_test=0.013262721603074021\n"
     ]
    }
   ],
   "source": [
    "# Run For All Factors, With Normalisation\n",
    "results_dict, results_array = run_lin_regression_experiments(input_df, normalization = True)\n",
    "# Add results to comparison df\n",
    "comparison_df.loc[\"All Factors, With Normalization\", :] = results_array"
   ]
  },
  {
   "cell_type": "markdown",
   "metadata": {},
   "source": [
    "## Question 2.3: Two Features, No Normalization"
   ]
  },
  {
   "cell_type": "code",
   "execution_count": 15,
   "metadata": {},
   "outputs": [
    {
     "name": "stdout",
     "output_type": "stream",
     "text": [
      "\n",
      "Running for 30 experiments\n",
      "Factors: ['Shell Weight', 'Diameter'] | Normalization: False\n",
      "\n",
      "Training RMSE Scores For Each Experiment\n",
      "mean_rmse_train=2.502071386076121, std_rmse_train=0.039277266254047434\n",
      "Test RMSE Scores for Each Experiment\n",
      "mean_rmse_test=2.5213424998920932, std_rmse_test=0.05951631820582035\n",
      "\n",
      "Training R2 Scores for Each Experiment\n",
      "0.39590369914261064=, std_rsq_train=0.012725811835020865\n",
      "Test R2 Scores for Each Experiment\n",
      "mean_rsq_test=0.390007883711166, std_rsq_test=0.01906172462987397\n"
     ]
    }
   ],
   "source": [
    "# Run For Two Factors, No Normalisation 2.3\n",
    "results_dict, results_array = run_lin_regression_experiments(input_df[['Shell Weight', 'Diameter', input_df.columns[-1]]], normalization = False)\n",
    "# Add Results to Comparison DF\n",
    "comparison_df.loc[\"Shell Weight & Diameter, No Normalization\", :] = results_array"
   ]
  },
  {
   "cell_type": "markdown",
   "metadata": {},
   "source": [
    "## Comparing Results of Different Variations"
   ]
  },
  {
   "cell_type": "code",
   "execution_count": 16,
   "metadata": {},
   "outputs": [],
   "source": [
    "comparison_display_df = comparison_df.style.format(\"{:.3f}\")\n",
    "# Create a png file of the dataframe\n",
    "dfi.export(comparison_display_df, 'comparison_df.png')"
   ]
  },
  {
   "cell_type": "code",
   "execution_count": 28,
   "metadata": {},
   "outputs": [
    {
     "data": {
      "text/plain": [
       "<matplotlib.legend.Legend at 0x255f902a340>"
      ]
     },
     "execution_count": 28,
     "metadata": {},
     "output_type": "execute_result"
    },
    {
     "data": {
      "image/png": "[encoded data removed]",
      "text/plain": [
       "<Figure size 720x144 with 1 Axes>"
      ]
     },
     "metadata": {
      "needs_background": "light"
     },
     "output_type": "display_data"
    }
   ],
   "source": [
    "# Plot Mean RMSE Train vs. Test\n",
    "fig_line_rmse, ax = plt.subplots(figsize=(10,2))\n",
    "\n",
    "ax.plot(comparison_df.index, comparison_df['mean_rmse_train'], marker='o', label='Mean RMSE Train')\n",
    "ax.plot(comparison_df.index, comparison_df['mean_rmse_test'], marker='o', label='Mean RMSE Test')\n",
    "ax.set_xticks(comparison_df.index)  # Setting x-ticks \n",
    "ax.set_xticklabels(comparison_df.index, rotation=45)  # Setting x-tick labels\n",
    "ax.set_title('Mean RMSE Train vs. Test')\n",
    "ax.set_ylabel('RMSE')\n",
    "ax.legend()\n",
    "\n"
   ]
  },
  {
   "cell_type": "code",
   "execution_count": 27,
   "metadata": {},
   "outputs": [
    {
     "data": {
      "text/plain": [
       "<matplotlib.legend.Legend at 0x255f9662fa0>"
      ]
     },
     "execution_count": 27,
     "metadata": {},
     "output_type": "execute_result"
    },
    {
     "data": {
      "image/png": "[encoded data removed]",
      "text/plain": [
       "<Figure size 720x144 with 1 Axes>"
      ]
     },
     "metadata": {
      "needs_background": "light"
     },
     "output_type": "display_data"
    }
   ],
   "source": [
    "fig_line_r2, ax = plt.subplots(figsize=(10,2))\n",
    "ax.plot(comparison_df.index, comparison_df['mean_rsq_train'], marker='o', label='Mean R2 Train')\n",
    "ax.plot(comparison_df.index, comparison_df['mean_rsq_test'], marker='o', label='Mean R2 Test')\n",
    "ax.set_xticks(comparison_df.index,rotation=45)\n",
    "ax.set_xticklabels(comparison_df.index, rotation=45)  # Setting x-tick labels\n",
    "ax.set_title('Mean R2 Train vs Test')\n",
    "ax.set_ylabel('R2')\n",
    "ax.legend()\n",
    "#fig_line_r2.tight_layout()\n"
   ]
  },
  {
   "cell_type": "code",
   "execution_count": 30,
   "metadata": {},
   "outputs": [
    {
     "data": {
      "image/png": "[encoded data removed]",
      "text/plain": [
       "<Figure size 720x144 with 1 Axes>"
      ]
     },
     "execution_count": 30,
     "metadata": {},
     "output_type": "execute_result"
    }
   ],
   "source": [
    "fig_line_rmse"
   ]
  },
  {
   "cell_type": "markdown",
   "metadata": {},
   "source": [
    "# Comparing Results of Different Approaches Taken\n",
    "\n",
    "We ran three variations of setup, 30 experiments for each:\n",
    "\n",
    "- Variation 1: Use all the factors and run our model using un-normalized data.\n",
    "- Variation 2: Use all the factors and run our model using NORMALIZED data.\n",
    "- Variation 3. Use ONLY the two factors with the highest correlation to Ring Age (Shell Weight & Diameter) using un-normalized data.\n",
    "\n",
    "The summary results are displayed in the table labelled \"Comparison Table\".\n"
   ]
  },
  {
   "cell_type": "code",
   "execution_count": 29,
   "metadata": {},
   "outputs": [
    {
     "data": {
      "text/html": [
       "<style type=\"text/css\">\n",
       "</style>\n",
       "<table id=\"T_515f8\">\n",
       "  <thead>\n",
       "    <tr>\n",
       "      <th class=\"blank level0\" >&nbsp;</th>\n",
       "      <th id=\"T_515f8_level0_col0\" class=\"col_heading level0 col0\" >mean_rmse_train</th>\n",
       "      <th id=\"T_515f8_level0_col1\" class=\"col_heading level0 col1\" >mean_rmse_test</th>\n",
       "      <th id=\"T_515f8_level0_col2\" class=\"col_heading level0 col2\" >std_rmse_train</th>\n",
       "      <th id=\"T_515f8_level0_col3\" class=\"col_heading level0 col3\" >std_rmse_test</th>\n",
       "      <th id=\"T_515f8_level0_col4\" class=\"col_heading level0 col4\" >mean_rsq_train</th>\n",
       "      <th id=\"T_515f8_level0_col5\" class=\"col_heading level0 col5\" >mean_rsq_test</th>\n",
       "      <th id=\"T_515f8_level0_col6\" class=\"col_heading level0 col6\" >std_rsq_train</th>\n",
       "      <th id=\"T_515f8_level0_col7\" class=\"col_heading level0 col7\" >std_rsq_test</th>\n",
       "    </tr>\n",
       "  </thead>\n",
       "  <tbody>\n",
       "    <tr>\n",
       "      <th id=\"T_515f8_level0_row0\" class=\"row_heading level0 row0\" >All Factors, No Normalization</th>\n",
       "      <td id=\"T_515f8_row0_col0\" class=\"data row0 col0\" >2.184</td>\n",
       "      <td id=\"T_515f8_row0_col1\" class=\"data row0 col1\" >2.235</td>\n",
       "      <td id=\"T_515f8_row0_col2\" class=\"data row0 col2\" >0.032</td>\n",
       "      <td id=\"T_515f8_row0_col3\" class=\"data row0 col3\" >0.051</td>\n",
       "      <td id=\"T_515f8_row0_col4\" class=\"data row0 col4\" >0.540</td>\n",
       "      <td id=\"T_515f8_row0_col5\" class=\"data row0 col5\" >0.520</td>\n",
       "      <td id=\"T_515f8_row0_col6\" class=\"data row0 col6\" >0.011</td>\n",
       "      <td id=\"T_515f8_row0_col7\" class=\"data row0 col7\" >0.022</td>\n",
       "    </tr>\n",
       "    <tr>\n",
       "      <th id=\"T_515f8_level0_row1\" class=\"row_heading level0 row1\" >All Factors, With Normalization</th>\n",
       "      <td id=\"T_515f8_row1_col0\" class=\"data row1 col0\" >2.154</td>\n",
       "      <td id=\"T_515f8_row1_col1\" class=\"data row1 col1\" >2.185</td>\n",
       "      <td id=\"T_515f8_row1_col2\" class=\"data row1 col2\" >0.029</td>\n",
       "      <td id=\"T_515f8_row1_col3\" class=\"data row1 col3\" >0.043</td>\n",
       "      <td id=\"T_515f8_row1_col4\" class=\"data row1 col4\" >0.552</td>\n",
       "      <td id=\"T_515f8_row1_col5\" class=\"data row1 col5\" >0.542</td>\n",
       "      <td id=\"T_515f8_row1_col6\" class=\"data row1 col6\" >0.008</td>\n",
       "      <td id=\"T_515f8_row1_col7\" class=\"data row1 col7\" >0.013</td>\n",
       "    </tr>\n",
       "    <tr>\n",
       "      <th id=\"T_515f8_level0_row2\" class=\"row_heading level0 row2\" >Shell Weight & Diameter, No Normalization</th>\n",
       "      <td id=\"T_515f8_row2_col0\" class=\"data row2 col0\" >2.502</td>\n",
       "      <td id=\"T_515f8_row2_col1\" class=\"data row2 col1\" >2.521</td>\n",
       "      <td id=\"T_515f8_row2_col2\" class=\"data row2 col2\" >0.039</td>\n",
       "      <td id=\"T_515f8_row2_col3\" class=\"data row2 col3\" >0.060</td>\n",
       "      <td id=\"T_515f8_row2_col4\" class=\"data row2 col4\" >0.396</td>\n",
       "      <td id=\"T_515f8_row2_col5\" class=\"data row2 col5\" >0.390</td>\n",
       "      <td id=\"T_515f8_row2_col6\" class=\"data row2 col6\" >0.013</td>\n",
       "      <td id=\"T_515f8_row2_col7\" class=\"data row2 col7\" >0.019</td>\n",
       "    </tr>\n",
       "  </tbody>\n",
       "</table>\n"
      ],
      "text/plain": [
       "<pandas.io.formats.style.Styler at 0x255f908bd00>"
      ]
     },
     "execution_count": 29,
     "metadata": {},
     "output_type": "execute_result"
    }
   ],
   "source": [
    "# Comparison Table\n",
    "comparison_display_df"
   ]
  },
  {
   "cell_type": "markdown",
   "metadata": {},
   "source": [
    "### Key Observations Regarding the Model and Its Results By Variation\n",
    "\n",
    "#### Model Performance\n",
    "\n",
    "For all three variations the model showed some predictive capabilites.  Even for the model which had the lowest R2 score, it had a R2 score of 0.396 and a RMSE score of 2.5.\n",
    "This means that the model explains 39.6% of the variation in the target variable (age) and the average error in the predictions is 2.194 years.\n",
    "\n",
    "This is certainly not a perfect score (1 being a perfect score), but it does indicate some predicative capabilities and our model would clearly expect to perform better than a random guess.  The best performing variation (All Factors With Normalisation) given R2 Scores of 0.55 and 0.54 for the train and test sets.  \n",
    "\n",
    "While the model certainly displayed some predictive capabilities it is certainly is far from perfect with the best Mean R2 score only being 0.552 even on the training set. \n",
    "\n",
    "We mentioned in point 1 that the model does not appear to have a major overfitting problem, but it does appear to be underfitting the dataset.  This means the model would probably benefit from having additional meaningful factors added - or that our model is failing to address the nature of the relationship between the factors and the target variable.  For Example, the relationship between the variables may be non-linear in nature whereas the model we used is assuming it is Linear in nature.  \n",
    "\n",
    "#### Best Performing Variation\n",
    "\n",
    "Of the three variations, that of using ALL FACTORS and where we DID normalize the data provided the best results.  In fact it provided the best results for all measured metrics.\n",
    "\n",
    "The summary of the numerical measures comparing the three variations, \"Comparison Table\", shows the exact values.  However, you can see it produced lower RMSE scores, lower standard deviations and higher R1 scores for both the training and test sets for this variation.\n",
    "\n",
    "#### Train Vs Test Set Results\n",
    "\n",
    "For all three variations, the results on the training set were better than the test set, meaning there was some drop off on our model's predictive capabilities when acting on unseen data.  However, that drop off was relatively minor which appears to indicate that the model is not overfitting significantly.  When noting the results were better, they were better for all four metrics measured: Mean RMSE, Standard Deviation of RMSE, Rsquared and Standard Deviation of Rsquared.\n",
    "\n",
    "\n",
    "\n",
    "\n",
    "\n",
    "\n",
    "\n",
    "#### Number of Factors Used\n",
    "\n",
    "When using ALL of our factors, instead of only two factors (Shell Weight and Diameter), our model's results improved for all metrics measured factors .\n",
    "\n",
    "Referring to the first row of our Comparision Table vs the third row:\n",
    "    - the mean RMSE and standard deviation of the RMSE decreased for both the train and test datasets;\n",
    "    - the mean R2 score is substantially higher for the datasets using all the factors vs only the two factors.\n",
    "\n",
    "This improvement was substantial with our Mean R2 score increasing from 0.39 to 0.52 on our unnormalized test datasets and a similar gain on training datasets.  \n",
    "\n",
    "This improvement appears to indicate that the additional of the other factors IS beneficial in improving the performance of the model.  Both of these finding are to be expected if we assume the additional factors added are meaningful and sufficient data points are present to avoid the model overfitting the additional factors (which appears to be the case).\n",
    "    \n",
    "This improvement occurred even though we added additional factors that are not as strong correlated as Shell Weight and Diameter.  This is definitely valuable to know because it is not always the case that simply adding additional factors results in a performance enhancement - soemtimes they do not improve the model or in fact \"confuse\" the model and result in worse performance.  Additionally, given there are very real costs (including data acquisiton costs, data cleansing costs,  computational costs) of adding additional models, having an indicator of whether the performance is enhanced via the additional factors is valuable.\n",
    "\n",
    "#### Normalization of Data\n",
    "\n",
    "Normalization of the data improved our model's results improved, for all metrics measured.\n",
    "    \n",
    "Looking at row 1 vs Row2 of the Comparison Table you can see the Mean RMSE, Standard Devation of RMSE both decrease and the R2 increased.  \n",
    "    \n",
    "While there was an improvement in our results when we normalized our data, it was not as large as improvement as occurs with some other datasets.  This may be because the raw unnormalized data was already reasonably uniform in its values for most of the factors with all the non-categorical values being between zero and one. The fact that we used a closed-form linear regression model sometimes also reduces the benefits of normalisation somewhat vs iteration driven models which may even fail to converge without normalisation of the underlying data.  However, even with a dataset that is reasonably uniform and a closed-form model we saw performance improvements via normalisation.\n",
    "\n",
    "#### MODEL RELATED SUMMARY\n",
    "\n",
    "Our model does have some predictive ability and is performing better than random.  We noted that increasing the number of factors we used did improve our results - as did normalising our data.  However, the predictive capability of our model is far from perfect and it appeas our results would improve if we could add additional meaningful features and/or conduct further feature engineering.  Another alternative to improve our results may be to use a model which can interpret the results betwen the predicative factors better.  "
   ]
  },
  {
   "cell_type": "markdown",
   "metadata": {},
   "source": []
  }
 ],
 "metadata": {
  "kernelspec": {
   "display_name": "base",
   "language": "python",
   "name": "python3"
  },
  "language_info": {
   "codemirror_mode": {
    "name": "ipython",
    "version": 3
   },
   "file_extension": ".py",
   "mimetype": "text/x-python",
   "name": "python",
   "nbconvert_exporter": "python",
   "pygments_lexer": "ipython3",
   "version": "3.8.12"
  }
 },
 "nbformat": 4,
 "nbformat_minor": 2
}
