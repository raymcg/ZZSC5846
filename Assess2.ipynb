{
 "cells": [
  {
   "cell_type": "markdown",
   "metadata": {},
   "source": [
    "# Assessment 2 : Data Processing\n",
    "\n",
    "Prepared by: Ray McGregor"
   ]
  },
  {
   "cell_type": "markdown",
   "metadata": {},
   "source": [
    "# Import Libaries"
   ]
  },
  {
   "cell_type": "code",
   "execution_count": 1,
   "metadata": {},
   "outputs": [],
   "source": [
    "import pandas as pd\n",
    "import numpy as np\n",
    "\n",
    "from sklearn.model_selection import train_test_split\n",
    "from sklearn import datasets, linear_model\n",
    "from sklearn.metrics import mean_squared_error, r2_score\n",
    "from sklearn.metrics import accuracy_score \n",
    "from sklearn.preprocessing import Normalizer\n",
    "\n",
    "import random\n",
    "\n",
    "import matplotlib.pyplot as plt\n",
    "\n",
    "import dataframe_image as dfi\n"
   ]
  },
  {
   "cell_type": "markdown",
   "metadata": {},
   "source": [
    "# Read and Clean Data"
   ]
  },
  {
   "cell_type": "code",
   "execution_count": 2,
   "metadata": {},
   "outputs": [
    {
     "data": {
      "text/html": [
       "<div>\n",
       "<style scoped>\n",
       "    .dataframe tbody tr th:only-of-type {\n",
       "        vertical-align: middle;\n",
       "    }\n",
       "\n",
       "    .dataframe tbody tr th {\n",
       "        vertical-align: top;\n",
       "    }\n",
       "\n",
       "    .dataframe thead th {\n",
       "        text-align: right;\n",
       "    }\n",
       "</style>\n",
       "<table border=\"1\" class=\"dataframe\">\n",
       "  <thead>\n",
       "    <tr style=\"text-align: right;\">\n",
       "      <th></th>\n",
       "      <th>Sex</th>\n",
       "      <th>Length</th>\n",
       "      <th>Diameter</th>\n",
       "      <th>Height</th>\n",
       "      <th>Whole Weight</th>\n",
       "      <th>Shucked weight</th>\n",
       "      <th>Viscera Weight</th>\n",
       "      <th>Shell Weight</th>\n",
       "      <th>Rings</th>\n",
       "    </tr>\n",
       "  </thead>\n",
       "  <tbody>\n",
       "    <tr>\n",
       "      <th>0</th>\n",
       "      <td>0</td>\n",
       "      <td>0.455</td>\n",
       "      <td>0.365</td>\n",
       "      <td>0.095</td>\n",
       "      <td>0.5140</td>\n",
       "      <td>0.2245</td>\n",
       "      <td>0.1010</td>\n",
       "      <td>0.1500</td>\n",
       "      <td>15</td>\n",
       "    </tr>\n",
       "    <tr>\n",
       "      <th>1</th>\n",
       "      <td>0</td>\n",
       "      <td>0.350</td>\n",
       "      <td>0.265</td>\n",
       "      <td>0.090</td>\n",
       "      <td>0.2255</td>\n",
       "      <td>0.0995</td>\n",
       "      <td>0.0485</td>\n",
       "      <td>0.0700</td>\n",
       "      <td>7</td>\n",
       "    </tr>\n",
       "    <tr>\n",
       "      <th>2</th>\n",
       "      <td>1</td>\n",
       "      <td>0.530</td>\n",
       "      <td>0.420</td>\n",
       "      <td>0.135</td>\n",
       "      <td>0.6770</td>\n",
       "      <td>0.2565</td>\n",
       "      <td>0.1415</td>\n",
       "      <td>0.2100</td>\n",
       "      <td>9</td>\n",
       "    </tr>\n",
       "    <tr>\n",
       "      <th>3</th>\n",
       "      <td>0</td>\n",
       "      <td>0.440</td>\n",
       "      <td>0.365</td>\n",
       "      <td>0.125</td>\n",
       "      <td>0.5160</td>\n",
       "      <td>0.2155</td>\n",
       "      <td>0.1140</td>\n",
       "      <td>0.1550</td>\n",
       "      <td>10</td>\n",
       "    </tr>\n",
       "    <tr>\n",
       "      <th>4</th>\n",
       "      <td>2</td>\n",
       "      <td>0.330</td>\n",
       "      <td>0.255</td>\n",
       "      <td>0.080</td>\n",
       "      <td>0.2050</td>\n",
       "      <td>0.0895</td>\n",
       "      <td>0.0395</td>\n",
       "      <td>0.0550</td>\n",
       "      <td>7</td>\n",
       "    </tr>\n",
       "    <tr>\n",
       "      <th>...</th>\n",
       "      <td>...</td>\n",
       "      <td>...</td>\n",
       "      <td>...</td>\n",
       "      <td>...</td>\n",
       "      <td>...</td>\n",
       "      <td>...</td>\n",
       "      <td>...</td>\n",
       "      <td>...</td>\n",
       "      <td>...</td>\n",
       "    </tr>\n",
       "    <tr>\n",
       "      <th>4172</th>\n",
       "      <td>1</td>\n",
       "      <td>0.565</td>\n",
       "      <td>0.450</td>\n",
       "      <td>0.165</td>\n",
       "      <td>0.8870</td>\n",
       "      <td>0.3700</td>\n",
       "      <td>0.2390</td>\n",
       "      <td>0.2490</td>\n",
       "      <td>11</td>\n",
       "    </tr>\n",
       "    <tr>\n",
       "      <th>4173</th>\n",
       "      <td>0</td>\n",
       "      <td>0.590</td>\n",
       "      <td>0.440</td>\n",
       "      <td>0.135</td>\n",
       "      <td>0.9660</td>\n",
       "      <td>0.4390</td>\n",
       "      <td>0.2145</td>\n",
       "      <td>0.2605</td>\n",
       "      <td>10</td>\n",
       "    </tr>\n",
       "    <tr>\n",
       "      <th>4174</th>\n",
       "      <td>0</td>\n",
       "      <td>0.600</td>\n",
       "      <td>0.475</td>\n",
       "      <td>0.205</td>\n",
       "      <td>1.1760</td>\n",
       "      <td>0.5255</td>\n",
       "      <td>0.2875</td>\n",
       "      <td>0.3080</td>\n",
       "      <td>9</td>\n",
       "    </tr>\n",
       "    <tr>\n",
       "      <th>4175</th>\n",
       "      <td>1</td>\n",
       "      <td>0.625</td>\n",
       "      <td>0.485</td>\n",
       "      <td>0.150</td>\n",
       "      <td>1.0945</td>\n",
       "      <td>0.5310</td>\n",
       "      <td>0.2610</td>\n",
       "      <td>0.2960</td>\n",
       "      <td>10</td>\n",
       "    </tr>\n",
       "    <tr>\n",
       "      <th>4176</th>\n",
       "      <td>0</td>\n",
       "      <td>0.710</td>\n",
       "      <td>0.555</td>\n",
       "      <td>0.195</td>\n",
       "      <td>1.9485</td>\n",
       "      <td>0.9455</td>\n",
       "      <td>0.3765</td>\n",
       "      <td>0.4950</td>\n",
       "      <td>12</td>\n",
       "    </tr>\n",
       "  </tbody>\n",
       "</table>\n",
       "<p>4177 rows × 9 columns</p>\n",
       "</div>"
      ],
      "text/plain": [
       "      Sex  Length  Diameter  Height  Whole Weight  Shucked weight  \\\n",
       "0       0   0.455     0.365   0.095        0.5140          0.2245   \n",
       "1       0   0.350     0.265   0.090        0.2255          0.0995   \n",
       "2       1   0.530     0.420   0.135        0.6770          0.2565   \n",
       "3       0   0.440     0.365   0.125        0.5160          0.2155   \n",
       "4       2   0.330     0.255   0.080        0.2050          0.0895   \n",
       "...   ...     ...       ...     ...           ...             ...   \n",
       "4172    1   0.565     0.450   0.165        0.8870          0.3700   \n",
       "4173    0   0.590     0.440   0.135        0.9660          0.4390   \n",
       "4174    0   0.600     0.475   0.205        1.1760          0.5255   \n",
       "4175    1   0.625     0.485   0.150        1.0945          0.5310   \n",
       "4176    0   0.710     0.555   0.195        1.9485          0.9455   \n",
       "\n",
       "      Viscera Weight  Shell Weight  Rings  \n",
       "0             0.1010        0.1500     15  \n",
       "1             0.0485        0.0700      7  \n",
       "2             0.1415        0.2100      9  \n",
       "3             0.1140        0.1550     10  \n",
       "4             0.0395        0.0550      7  \n",
       "...              ...           ...    ...  \n",
       "4172          0.2390        0.2490     11  \n",
       "4173          0.2145        0.2605     10  \n",
       "4174          0.2875        0.3080      9  \n",
       "4175          0.2610        0.2960     10  \n",
       "4176          0.3765        0.4950     12  \n",
       "\n",
       "[4177 rows x 9 columns]"
      ]
     },
     "execution_count": 2,
     "metadata": {},
     "output_type": "execute_result"
    }
   ],
   "source": [
    "input_df = pd.read_csv('C:/Dropbox/Variance/UNSW/ZZSC5836/raw_data/abalone.data', header=None)\n",
    "input_df.columns = [\"Sex\",\"Length\", \"Diameter\", \"Height\", \"Whole Weight\", \"Shucked weight\", \"Viscera Weight\", \"Shell Weight\", \"Rings\"]\n",
    "\n",
    "# Task 1: Convert M, F and I to 0, 1 and \n",
    "input_df['Sex'] = input_df['Sex'].replace({\"M\": 0, \"F\": 1, \"I\": 2})\n",
    "\n",
    "input_df\n",
    "\n"
   ]
  },
  {
   "cell_type": "markdown",
   "metadata": {},
   "source": [
    "# Task 1.2 Correlation Heat Map"
   ]
  },
  {
   "cell_type": "markdown",
   "metadata": {},
   "source": [
    "Lets first create a correlation matrix and display the results in tabular format."
   ]
  },
  {
   "cell_type": "code",
   "execution_count": 3,
   "metadata": {},
   "outputs": [
    {
     "data": {
      "text/html": [
       "<div>\n",
       "<style scoped>\n",
       "    .dataframe tbody tr th:only-of-type {\n",
       "        vertical-align: middle;\n",
       "    }\n",
       "\n",
       "    .dataframe tbody tr th {\n",
       "        vertical-align: top;\n",
       "    }\n",
       "\n",
       "    .dataframe thead th {\n",
       "        text-align: right;\n",
       "    }\n",
       "</style>\n",
       "<table border=\"1\" class=\"dataframe\">\n",
       "  <thead>\n",
       "    <tr style=\"text-align: right;\">\n",
       "      <th></th>\n",
       "      <th>Sex</th>\n",
       "      <th>Length</th>\n",
       "      <th>Diameter</th>\n",
       "      <th>Height</th>\n",
       "      <th>Whole Weight</th>\n",
       "      <th>Shucked weight</th>\n",
       "      <th>Viscera Weight</th>\n",
       "      <th>Shell Weight</th>\n",
       "      <th>Rings</th>\n",
       "    </tr>\n",
       "  </thead>\n",
       "  <tbody>\n",
       "    <tr>\n",
       "      <th>Sex</th>\n",
       "      <td>1.000000</td>\n",
       "      <td>-0.448765</td>\n",
       "      <td>-0.458245</td>\n",
       "      <td>-0.417928</td>\n",
       "      <td>-0.461238</td>\n",
       "      <td>-0.440927</td>\n",
       "      <td>-0.454658</td>\n",
       "      <td>-0.445549</td>\n",
       "      <td>-0.351822</td>\n",
       "    </tr>\n",
       "    <tr>\n",
       "      <th>Length</th>\n",
       "      <td>-0.448765</td>\n",
       "      <td>1.000000</td>\n",
       "      <td>0.986812</td>\n",
       "      <td>0.827554</td>\n",
       "      <td>0.925261</td>\n",
       "      <td>0.897914</td>\n",
       "      <td>0.903018</td>\n",
       "      <td>0.897706</td>\n",
       "      <td>0.556720</td>\n",
       "    </tr>\n",
       "    <tr>\n",
       "      <th>Diameter</th>\n",
       "      <td>-0.458245</td>\n",
       "      <td>0.986812</td>\n",
       "      <td>1.000000</td>\n",
       "      <td>0.833684</td>\n",
       "      <td>0.925452</td>\n",
       "      <td>0.893162</td>\n",
       "      <td>0.899724</td>\n",
       "      <td>0.905330</td>\n",
       "      <td>0.574660</td>\n",
       "    </tr>\n",
       "    <tr>\n",
       "      <th>Height</th>\n",
       "      <td>-0.417928</td>\n",
       "      <td>0.827554</td>\n",
       "      <td>0.833684</td>\n",
       "      <td>1.000000</td>\n",
       "      <td>0.819221</td>\n",
       "      <td>0.774972</td>\n",
       "      <td>0.798319</td>\n",
       "      <td>0.817338</td>\n",
       "      <td>0.557467</td>\n",
       "    </tr>\n",
       "    <tr>\n",
       "      <th>Whole Weight</th>\n",
       "      <td>-0.461238</td>\n",
       "      <td>0.925261</td>\n",
       "      <td>0.925452</td>\n",
       "      <td>0.819221</td>\n",
       "      <td>1.000000</td>\n",
       "      <td>0.969405</td>\n",
       "      <td>0.966375</td>\n",
       "      <td>0.955355</td>\n",
       "      <td>0.540390</td>\n",
       "    </tr>\n",
       "    <tr>\n",
       "      <th>Shucked weight</th>\n",
       "      <td>-0.440927</td>\n",
       "      <td>0.897914</td>\n",
       "      <td>0.893162</td>\n",
       "      <td>0.774972</td>\n",
       "      <td>0.969405</td>\n",
       "      <td>1.000000</td>\n",
       "      <td>0.931961</td>\n",
       "      <td>0.882617</td>\n",
       "      <td>0.420884</td>\n",
       "    </tr>\n",
       "    <tr>\n",
       "      <th>Viscera Weight</th>\n",
       "      <td>-0.454658</td>\n",
       "      <td>0.903018</td>\n",
       "      <td>0.899724</td>\n",
       "      <td>0.798319</td>\n",
       "      <td>0.966375</td>\n",
       "      <td>0.931961</td>\n",
       "      <td>1.000000</td>\n",
       "      <td>0.907656</td>\n",
       "      <td>0.503819</td>\n",
       "    </tr>\n",
       "    <tr>\n",
       "      <th>Shell Weight</th>\n",
       "      <td>-0.445549</td>\n",
       "      <td>0.897706</td>\n",
       "      <td>0.905330</td>\n",
       "      <td>0.817338</td>\n",
       "      <td>0.955355</td>\n",
       "      <td>0.882617</td>\n",
       "      <td>0.907656</td>\n",
       "      <td>1.000000</td>\n",
       "      <td>0.627574</td>\n",
       "    </tr>\n",
       "    <tr>\n",
       "      <th>Rings</th>\n",
       "      <td>-0.351822</td>\n",
       "      <td>0.556720</td>\n",
       "      <td>0.574660</td>\n",
       "      <td>0.557467</td>\n",
       "      <td>0.540390</td>\n",
       "      <td>0.420884</td>\n",
       "      <td>0.503819</td>\n",
       "      <td>0.627574</td>\n",
       "      <td>1.000000</td>\n",
       "    </tr>\n",
       "  </tbody>\n",
       "</table>\n",
       "</div>"
      ],
      "text/plain": [
       "                     Sex    Length  Diameter    Height  Whole Weight  \\\n",
       "Sex             1.000000 -0.448765 -0.458245 -0.417928     -0.461238   \n",
       "Length         -0.448765  1.000000  0.986812  0.827554      0.925261   \n",
       "Diameter       -0.458245  0.986812  1.000000  0.833684      0.925452   \n",
       "Height         -0.417928  0.827554  0.833684  1.000000      0.819221   \n",
       "Whole Weight   -0.461238  0.925261  0.925452  0.819221      1.000000   \n",
       "Shucked weight -0.440927  0.897914  0.893162  0.774972      0.969405   \n",
       "Viscera Weight -0.454658  0.903018  0.899724  0.798319      0.966375   \n",
       "Shell Weight   -0.445549  0.897706  0.905330  0.817338      0.955355   \n",
       "Rings          -0.351822  0.556720  0.574660  0.557467      0.540390   \n",
       "\n",
       "                Shucked weight  Viscera Weight  Shell Weight     Rings  \n",
       "Sex                  -0.440927       -0.454658     -0.445549 -0.351822  \n",
       "Length                0.897914        0.903018      0.897706  0.556720  \n",
       "Diameter              0.893162        0.899724      0.905330  0.574660  \n",
       "Height                0.774972        0.798319      0.817338  0.557467  \n",
       "Whole Weight          0.969405        0.966375      0.955355  0.540390  \n",
       "Shucked weight        1.000000        0.931961      0.882617  0.420884  \n",
       "Viscera Weight        0.931961        1.000000      0.907656  0.503819  \n",
       "Shell Weight          0.882617        0.907656      1.000000  0.627574  \n",
       "Rings                 0.420884        0.503819      0.627574  1.000000  "
      ]
     },
     "execution_count": 3,
     "metadata": {},
     "output_type": "execute_result"
    }
   ],
   "source": [
    "corr_matrix = input_df.corr()\n",
    "corr_matrix"
   ]
  },
  {
   "cell_type": "markdown",
   "metadata": {},
   "source": [
    "Lets isolate the correlation levels of the factors with Rings."
   ]
  },
  {
   "cell_type": "code",
   "execution_count": 4,
   "metadata": {},
   "outputs": [
    {
     "name": "stdout",
     "output_type": "stream",
     "text": [
      "The correlation of Rings with other variables\n",
      "\n",
      "Shell Weight      0.627574\n",
      "Diameter          0.574660\n",
      "Height            0.557467\n",
      "Length            0.556720\n",
      "Whole Weight      0.540390\n",
      "Viscera Weight    0.503819\n",
      "Shucked weight    0.420884\n",
      "Sex              -0.351822\n",
      "Name: Rings, dtype: float64\n"
     ]
    }
   ],
   "source": [
    "corr_rings = corr_matrix['Rings'].sort_values(ascending=False)\n",
    "print('The correlation of Rings with other variables\\n')\n",
    "print(corr_rings[1:])\n"
   ]
  },
  {
   "cell_type": "markdown",
   "metadata": {},
   "source": [
    "## Create a Heatmap"
   ]
  },
  {
   "cell_type": "code",
   "execution_count": 5,
   "metadata": {},
   "outputs": [
    {
     "data": {
      "image/png": "[encoded data removed]",
      "text/plain": [
       "<Figure size 432x288 with 2 Axes>"
      ]
     },
     "metadata": {
      "needs_background": "light"
     },
     "output_type": "display_data"
    },
    {
     "data": {
      "text/plain": [
       "<Figure size 432x288 with 0 Axes>"
      ]
     },
     "metadata": {},
     "output_type": "display_data"
    }
   ],
   "source": [
    "plt.imshow(corr_matrix, cmap='hot') \n",
    "plt.colorbar()\n",
    "#plt.xticks(range(input_df.shape[1]), input_df.columns, fontsize=12, rotation=90)\n",
    "#plt.yticks(range(input_df.shape[1]), input_df.columns, fontsize=12)\n",
    "plt.xticks(range(input_df.shape[1]), input_df.columns, rotation=90)\n",
    "plt.yticks(range(input_df.shape[1]), input_df.columns)\n",
    "\n",
    "plt.show()\n",
    "plt.savefig('C:/Dropbox/Variance/UNSW/ZZSC5836/heatmap.png')"
   ]
  },
  {
   "cell_type": "code",
   "execution_count": 6,
   "metadata": {},
   "outputs": [
    {
     "data": {
      "image/png": "[encoded data removed]",
      "text/plain": [
       "<Figure size 1368x1080 with 2 Axes>"
      ]
     },
     "metadata": {
      "needs_background": "light"
     },
     "output_type": "display_data"
    }
   ],
   "source": [
    "# https://stackoverflow.com/questions/53908351/heat-map-for-correlation-in-python\n",
    "\n",
    "f = plt.figure(figsize=(19, 15))\n",
    "plt.matshow(corr_matrix, fignum=f.number)\n",
    "plt.xticks(range(input_df.shape[1]), input_df.columns, fontsize=14,rotation=45)\n",
    "plt.yticks(range(input_df.shape[1]), input_df.columns, fontsize=14)\n",
    "cb = plt.colorbar()\n",
    "cb.ax.tick_params(labelsize=14)\n",
    "plt.title('Correlation Matrix', fontsize=16);"
   ]
  },
  {
   "cell_type": "markdown",
   "metadata": {},
   "source": [
    "## Observations From Correlations\n",
    "\n",
    "- Sex is negatively correlated with all the other factors, including our target variable Rings.  Sex is the only factor which has negative correlations to any other factor.\n",
    "\n",
    "- The factor which is most strongly correlated with our target variable Rings is Shell Weight.\n",
    "\n",
    "- All the factors show some level of correlation as even the factor with the lowest level of correlation (Sex) has an absolute correlation level of 0.3518.\n",
    "\n",
    "- The correlation levels between the Height and Length with Rings is almost identical which may mean they are overlapping factors.  This seems to be supported by the correlation level between the being high at 0.827.\n",
    "\n",
    "- There is a very strong correlation between several of the factors which needs to be taken into account when building our model.  We've displayed those within a dataframe. "
   ]
  },
  {
   "cell_type": "code",
   "execution_count": 7,
   "metadata": {},
   "outputs": [
    {
     "name": "stdout",
     "output_type": "stream",
     "text": [
      "Factors with high cross correlation:\n"
     ]
    },
    {
     "data": {
      "text/html": [
       "<div>\n",
       "<style scoped>\n",
       "    .dataframe tbody tr th:only-of-type {\n",
       "        vertical-align: middle;\n",
       "    }\n",
       "\n",
       "    .dataframe tbody tr th {\n",
       "        vertical-align: top;\n",
       "    }\n",
       "\n",
       "    .dataframe thead th {\n",
       "        text-align: right;\n",
       "    }\n",
       "</style>\n",
       "<table border=\"1\" class=\"dataframe\">\n",
       "  <thead>\n",
       "    <tr style=\"text-align: right;\">\n",
       "      <th></th>\n",
       "      <th>Correlation</th>\n",
       "    </tr>\n",
       "  </thead>\n",
       "  <tbody>\n",
       "    <tr>\n",
       "      <th>(Length, Diameter)</th>\n",
       "      <td>0.986812</td>\n",
       "    </tr>\n",
       "    <tr>\n",
       "      <th>(Diameter, Length)</th>\n",
       "      <td>0.986812</td>\n",
       "    </tr>\n",
       "    <tr>\n",
       "      <th>(Whole Weight, Shucked weight)</th>\n",
       "      <td>0.969405</td>\n",
       "    </tr>\n",
       "    <tr>\n",
       "      <th>(Whole Weight, Viscera Weight)</th>\n",
       "      <td>0.966375</td>\n",
       "    </tr>\n",
       "    <tr>\n",
       "      <th>(Whole Weight, Shell Weight)</th>\n",
       "      <td>0.955355</td>\n",
       "    </tr>\n",
       "    <tr>\n",
       "      <th>(Shucked weight, Whole Weight)</th>\n",
       "      <td>0.969405</td>\n",
       "    </tr>\n",
       "    <tr>\n",
       "      <th>(Viscera Weight, Whole Weight)</th>\n",
       "      <td>0.966375</td>\n",
       "    </tr>\n",
       "    <tr>\n",
       "      <th>(Shell Weight, Whole Weight)</th>\n",
       "      <td>0.955355</td>\n",
       "    </tr>\n",
       "  </tbody>\n",
       "</table>\n",
       "</div>"
      ],
      "text/plain": [
       "                                Correlation\n",
       "(Length, Diameter)                 0.986812\n",
       "(Diameter, Length)                 0.986812\n",
       "(Whole Weight, Shucked weight)     0.969405\n",
       "(Whole Weight, Viscera Weight)     0.966375\n",
       "(Whole Weight, Shell Weight)       0.955355\n",
       "(Shucked weight, Whole Weight)     0.969405\n",
       "(Viscera Weight, Whole Weight)     0.966375\n",
       "(Shell Weight, Whole Weight)       0.955355"
      ]
     },
     "execution_count": 7,
     "metadata": {},
     "output_type": "execute_result"
    }
   ],
   "source": [
    "# Build a Datframe highlighting those variables with high cross correlation\n",
    "\n",
    "very_high_cross_correlations = corr_matrix[(corr_matrix>0.95) & (corr_matrix<1)]\n",
    "very_high_cross_correlations = very_high_cross_correlations.unstack().to_dict()\n",
    "high_cross_corr_dict = {}\n",
    "for key, value in very_high_cross_correlations.items():\n",
    "    # if the value is nan, then delete from dictionary\n",
    "    if abs(value) > 0:\n",
    "        high_cross_corr_dict[key] = value\n",
    "\n",
    "# insert high_cross_corr_dict into a dataframe\n",
    "high_cross_corr_df = pd.DataFrame.from_dict(high_cross_corr_dict, orient='index', columns=['Correlation'])\n",
    "\n",
    " \n",
    "dfi.export(high_cross_corr_df, 'high_cross_corr_df.png')\n",
    "\n",
    "print(\"Factors with high cross correlation:\")\n",
    "high_cross_corr_df\n",
    "\n"
   ]
  },
  {
   "cell_type": "markdown",
   "metadata": {},
   "source": [
    "## 1.3 Scatter Plot"
   ]
  },
  {
   "cell_type": "code",
   "execution_count": 8,
   "metadata": {},
   "outputs": [
    {
     "name": "stdout",
     "output_type": "stream",
     "text": [
      "The two factors with highest correlation to Rings are Shell Weight and Diameter.\n"
     ]
    },
    {
     "data": {
      "image/png": "[encoded data removed]",
      "text/plain": [
       "<Figure size 432x288 with 1 Axes>"
      ]
     },
     "metadata": {
      "needs_background": "light"
     },
     "output_type": "display_data"
    },
    {
     "data": {
      "image/png": "[encoded data removed]",
      "text/plain": [
       "<Figure size 432x288 with 1 Axes>"
      ]
     },
     "metadata": {
      "needs_background": "light"
     },
     "output_type": "display_data"
    },
    {
     "data": {
      "text/plain": [
       "Rings             1.000000\n",
       "Shell Weight      0.627574\n",
       "Diameter          0.574660\n",
       "Height            0.557467\n",
       "Length            0.556720\n",
       "Whole Weight      0.540390\n",
       "Viscera Weight    0.503819\n",
       "Shucked weight    0.420884\n",
       "Sex              -0.351822\n",
       "Name: Rings, dtype: float64"
      ]
     },
     "execution_count": 8,
     "metadata": {},
     "output_type": "execute_result"
    }
   ],
   "source": [
    "print(f\"The two factors with highest correlation to Rings are {corr_rings.index[1]} and {corr_rings.index[2]}.\")\n",
    "\n",
    "for i in [1,2]:\n",
    "    # Create a scatter plot of the two factors with highest correlation to Rings\n",
    "    plt.scatter(input_df[corr_rings.index[0]], input_df[corr_rings.index[i]])\n",
    "\n",
    "    plt.title(f\"Scatter plot {corr_rings.index[i]} Vs Ring Age\")\n",
    "    plt.xlabel(corr_rings.index[0])\n",
    "    plt.ylabel(corr_rings.index[i])\n",
    "    plt.show()\n",
    "    #plt.savefig()\n",
    "\n",
    "corr_rings\n"
   ]
  },
  {
   "cell_type": "markdown",
   "metadata": {},
   "source": [
    "### Observations From Scatter Plots\n",
    "\n",
    "1. Both plots indicate a definite trend of Diameter and Shell Weight increasing as the number of rings increase.  This is consistent with the relatively strong positive numerical correlation value.  Visually, the strength of that relationship is not obviously different between the two factors which again is consistent with the numerical correlation values of (0.63 and 0.57) being relatively close.\n",
    "\n",
    "2. The scatter plots show signficantly fewer values for Rings > 6 and < 22.5 which is obvious enough to warrant investigation into why this is the case.  Is it something to do with our specific sample, or is it representative of the entire population and for both instances, why?\n",
    "\n",
    "3.  Most of the 'outliers' shown in the graph appear to be related to the age of the sample item (low number of rings or high number of rings) but consistent with the positive correlation noted.  That is, while there are some 'outliers' in they have a number of rings above 25, or less than 4, the values for those outliers do generally seem to follow the correlation patter for the overall population.  While the impact of outliers should still be considered, the plots shown seem to indicate that the outliers will impact on our models less than other populations with more extreme outliers.\n",
    "\n",
    "4.  The distribution of the Diameter plot differs in shape from the distribution of the Shell Weight plot.  Distribution shape is important for several reasons, including that it often relevant when applying prediciton models as many of the prediction models make assumptions about the nature of the distribution of the underlying data set.\n",
    "\n",
    "5.  There is a not a large disparity between the sbsolute values of the two factors plotted.  That is, the maximum value for both Diameter and Shell Weight is less than one and there are are no negative values.  So the range of values for both factors is between 0 and 1 (which may indicate the values have already been normalized).  "
   ]
  },
  {
   "cell_type": "markdown",
   "metadata": {},
   "source": [
    "## 1.4 Histograms"
   ]
  },
  {
   "cell_type": "code",
   "execution_count": 9,
   "metadata": {},
   "outputs": [
    {
     "data": {
      "text/plain": [
       "0       0.1500\n",
       "1       0.0700\n",
       "2       0.2100\n",
       "3       0.1550\n",
       "4       0.0550\n",
       "         ...  \n",
       "4172    0.2490\n",
       "4173    0.2605\n",
       "4174    0.3080\n",
       "4175    0.2960\n",
       "4176    0.4950\n",
       "Name: Shell Weight, Length: 4177, dtype: float64"
      ]
     },
     "execution_count": 9,
     "metadata": {},
     "output_type": "execute_result"
    }
   ],
   "source": [
    "input_df['Shell Weight']"
   ]
  },
  {
   "cell_type": "code",
   "execution_count": 10,
   "metadata": {},
   "outputs": [
    {
     "data": {
      "image/png": "[encoded data removed]",
      "text/plain": [
       "<Figure size 432x288 with 1 Axes>"
      ]
     },
     "metadata": {
      "needs_background": "light"
     },
     "output_type": "display_data"
    },
    {
     "data": {
      "image/png": "[encoded data removed]",
      "text/plain": [
       "<Figure size 432x288 with 1 Axes>"
      ]
     },
     "metadata": {
      "needs_background": "light"
     },
     "output_type": "display_data"
    },
    {
     "data": {
      "image/png": "[encoded data removed]",
      "text/plain": [
       "<Figure size 432x288 with 1 Axes>"
      ]
     },
     "metadata": {
      "needs_background": "light"
     },
     "output_type": "display_data"
    },
    {
     "data": {
      "text/plain": [
       "Rings             1.000000\n",
       "Shell Weight      0.627574\n",
       "Diameter          0.574660\n",
       "Height            0.557467\n",
       "Length            0.556720\n",
       "Whole Weight      0.540390\n",
       "Viscera Weight    0.503819\n",
       "Shucked weight    0.420884\n",
       "Sex              -0.351822\n",
       "Name: Rings, dtype: float64"
      ]
     },
     "execution_count": 10,
     "metadata": {},
     "output_type": "execute_result"
    }
   ],
   "source": [
    "for i in [0, 1,2]:\n",
    "    # Create a histogram plot of the two factors with highest correlation to Rings\n",
    "    plt.hist(input_df[corr_rings.index[i]])\n",
    "\n",
    "    plt.title(f\"Histogram for {corr_rings.index[i]}\")\n",
    "    plt.xlabel(corr_rings.index[i])\n",
    "    plt.ylabel(\"Frequency\")\n",
    "    plt.axvline(input_df[corr_rings.index[i]].mean(), color='k', linestyle='dashed', linewidth=1) # Mean\n",
    "    plt.axvline(input_df[corr_rings.index[i]].median(), color='r', linestyle='dashed', linewidth=1) # Median\n",
    "\n",
    "    plt.show()\n",
    "    #plt.savefig()\n",
    "\n",
    "corr_rings"
   ]
  },
  {
   "cell_type": "markdown",
   "metadata": {},
   "source": [
    "### Histogram Observations\n",
    "\n",
    "1.  The three population values appear to have quite different distribution shapes. None of the three appear to be normally distributed but all three share some characteristics of a normal distribution with the highest frequencies being central to the distribution and then then tailing off to the higher and lower values.  However, the 'tails' of the distribution are not as symmetrical as you would expect to see for a normal distribution.\n",
    "\n",
    "2.  All three populations show a large percentage of values within relatively narrow range.  This is especially true for Rings and Shell Weight and a little less so for Diameter which does show a more stepped frequency leading up the median frequency.\n",
    "\n"
   ]
  },
  {
   "cell_type": "markdown",
   "metadata": {},
   "source": [
    "# 1.5 Create a 60/ 40 Train Test Split"
   ]
  },
  {
   "cell_type": "code",
   "execution_count": 11,
   "metadata": {},
   "outputs": [],
   "source": [
    "def generate_data(source_df, exp_num, test_size = 0.4):\n",
    "\n",
    "    x_train, x_test = train_test_split(source_df.values[:,:-1], test_size=test_size, random_state=exp_num)\n",
    "    y_train, y_test = train_test_split(source_df.values[:,-1], test_size=test_size, random_state=exp_num)\n",
    "\n",
    "    return x_train, x_test, y_train, y_test"
   ]
  },
  {
   "cell_type": "code",
   "execution_count": 25,
   "metadata": {},
   "outputs": [
    {
     "name": "stdout",
     "output_type": "stream",
     "text": [
      "Experiment Number: 2\n",
      "X_train:  [[0.     0.375  0.28   0.095  0.2225 0.0875 0.043  0.08  ]]\n",
      "Y_train:  [10.]\n",
      "X_test:  [[1.     0.46   0.38   0.13   0.639  0.3    0.1525 0.16  ]]\n",
      "Y_test:  [11.]\n"
     ]
    }
   ],
   "source": [
    "## Sample Run of Train Test Split Function\n",
    "experiment_num = 2\n",
    "print(f\"Experiment Number: {experiment_num}\")\n",
    "\n",
    "# Run Function to generate train and test data: Using all factors and a 60/40 Train Test Split and Not Normalized\n",
    "x_train, x_test, y_train, y_test = generate_data(input_df, experiment_num, test_size = 0.4)\n",
    "\n",
    "# Print first two records of each set\n",
    "print('X_train: ', x_train[:1])\n",
    "print('Y_train: ', y_train[:1])\n",
    "print('X_test: ', x_test[:1])\n",
    "print('Y_test: ', y_test[:1]) "
   ]
  },
  {
   "cell_type": "markdown",
   "metadata": {},
   "source": [
    "# PART TWO : MODELLING"
   ]
  },
  {
   "cell_type": "markdown",
   "metadata": {},
   "source": [
    "## 2.1 Linear Regression Model"
   ]
  },
  {
   "cell_type": "code",
   "execution_count": 13,
   "metadata": {},
   "outputs": [],
   "source": [
    "def scipy_linear_mod(x_train, x_test, y_train, y_test):\n",
    "    #Source: Scikit Learn. (n.d). Linear Regression Example. https://scikit-learn.org/stable/auto_examples/linear_model/plot_ols.html \n",
    "\n",
    "    regr = linear_model.LinearRegression()\n",
    "\n",
    "    # Train the model using the training sets\n",
    "    regr.fit(x_train, y_train)\n",
    "\n",
    "    # Make predictions using the testing set\n",
    "    y_pred_train = regr.predict(x_train)\n",
    "    y_pred_test = regr.predict(x_test)\n",
    "\n",
    "    rmse_train = np.sqrt(mean_squared_error(y_train, y_pred_train))\n",
    "    r2_train = r2_score(y_train, y_pred_train)\n",
    "\n",
    "    rmse_test = np.sqrt(mean_squared_error(y_test, y_pred_test))\n",
    "    r2_test = r2_score(y_test, y_pred_test)\n",
    "\n",
    "    return rmse_train, r2_train, rmse_test, r2_test, y_pred_test\n",
    "\n"
   ]
  },
  {
   "cell_type": "code",
   "execution_count": 14,
   "metadata": {},
   "outputs": [],
   "source": [
    "# Source: Exercise 1.2 Solution\n",
    "def run_lin_regression_experiments(variation_df, normalization = False): \n",
    " \n",
    "    max_exp = 5\n",
    "\n",
    "    rmse_train_list = np.zeros(max_exp)\n",
    "    rsq_train_list = np.zeros(max_exp)\n",
    "    rmse_test_list = np.zeros(max_exp)\n",
    "    rsq_test_list = np.zeros(max_exp)\n",
    "    \n",
    "    print(f\"Factors: {list(variation_df.columns[:-1])} | Normalization: {normalization}\\n\")\n",
    "\n",
    "    for exp_num in range(max_exp):\n",
    "\n",
    "        #Generate Train Test Using All Factors, Without Normalization\n",
    "        x_train, x_test, y_train, y_test = generate_data(variation_df, exp_num, test_size = 0.4)\n",
    "\n",
    "        # normalize training sets if required\n",
    "        if normalization:\n",
    "            normalizer = Normalizer()\n",
    "            x_train = normalizer.fit_transform(x_train)\n",
    "            x_test = normalizer.transform(x_test)\n",
    "\n",
    "        # Run Closed End Linear Regression Model\n",
    "        rmse_train, r2_train, rmse_test, r2_test, y_pred_test = scipy_linear_mod(x_train, x_test, y_train, y_test)\n",
    "        \n",
    "        rmse_train_list[exp_num] = rmse_train\n",
    "        rsq_train_list[exp_num] = r2_train\n",
    "        rmse_test_list[exp_num] = rmse_test\n",
    "        rsq_test_list[exp_num] = r2_test\n",
    "\n",
    "    \n",
    "    mean_rmse_train = np.mean(rmse_train_list)\n",
    "    std_rmse_train = np.std(rmse_train_list)\n",
    "    mean_rsq_train = np.mean(rsq_train_list)\n",
    "    std_rsq_train = np.std(rsq_train_list)\n",
    "\n",
    "    mean_rmse_test = np.mean(rmse_test_list)\n",
    "    std_rmse_test = np.std(rmse_test_list)\n",
    "    mean_rsq_test = np.mean(rsq_test_list)\n",
    "    std_rsq_test = np.std(rsq_test_list)    \n",
    "\n",
    "    print(\"Training RMSE Scores For Each Experiment\")\n",
    "    print(rmse_train_list)\n",
    "    print(f\"{mean_rmse_train=}, {std_rmse_train=}\")\n",
    "\n",
    "    print(\"Test RMSE Scores for Each Experiment\")\n",
    "    print(rmse_test_list)\n",
    "    print(f\"{mean_rmse_test=}, {std_rmse_test=}\")\n",
    "\n",
    "    print()\n",
    "\n",
    "    print(\"Training R2 Scores for Each Experiment\")\n",
    "    print(rsq_train_list)\n",
    "    print(f\"{mean_rsq_train}=, {std_rsq_train=}\")\n",
    "\n",
    "    print(\"Test R2 Scores for Each Experiment\")\n",
    "    print(rsq_test_list)\n",
    "    print(f\"{mean_rsq_test=}, {std_rsq_test=}\")\n",
    "    \n",
    "    results_dict = {\"mean_rmse_train\": mean_rmse_train, \"mean_rmse_test\": mean_rmse_test, \n",
    "                    \"std_rmse_train\": std_rmse_train, \"std_rmse_test\": std_rmse_test, \n",
    "                    \"mean_rsq_train\": mean_rsq_train, \"mean_rsq_test\": mean_rsq_test, \n",
    "                    \"std_rsq_train\": std_rsq_train, \"std_rsq_test\": std_rsq_test, \n",
    "                    \"y_pred_test\": y_pred_test}\n",
    "    \n",
    "    results_array = list(results_dict.values())[:-1] # Will use to create our comparison df\n",
    "\n",
    "    return results_dict, results_array\n",
    "\n"
   ]
  },
  {
   "cell_type": "markdown",
   "metadata": {},
   "source": [
    "## 2.2 All Features, No Normalization"
   ]
  },
  {
   "cell_type": "code",
   "execution_count": 15,
   "metadata": {},
   "outputs": [
    {
     "name": "stdout",
     "output_type": "stream",
     "text": [
      "Factors: ['Sex', 'Length', 'Diameter', 'Height', 'Whole Weight', 'Shucked weight', 'Viscera Weight', 'Shell Weight'] | Normalization: False\n",
      "\n",
      "Training RMSE Scores For Each Experiment\n",
      "[2.18293545 2.17533221 2.1311203  2.20251027 2.18960523]\n",
      "mean_rmse_train=2.176300693681332, std_rmse_train=0.02429065231953934\n",
      "Test RMSE Scores for Each Experiment\n",
      "[2.22567501 2.27174306 2.31204708 2.26078138 2.21451902]\n",
      "mean_rmse_test=2.2569531106907514, std_rmse_test=0.03477848704532299\n",
      "\n",
      "Training R2 Scores for Each Experiment\n",
      "[0.54377897 0.54751059 0.53792867 0.55021238 0.55402279]\n",
      "0.5466906801410895=, std_rsq_train=0.005515165740627715\n",
      "Test R2 Scores for Each Experiment\n",
      "[0.51952324 0.49867345 0.52423387 0.47859897 0.50242148]\n",
      "mean_rsq_test=0.5046902030254239, std_rsq_test=0.016273134672369433\n"
     ]
    }
   ],
   "source": [
    "# Run For All Factors, No Normalisation\n",
    "results_dict, results_array = run_lin_regression_experiments(input_df, normalization = False)\n",
    "\n",
    "# Create a dataframe from results_array to store the results\n",
    "comparison_df = pd.DataFrame(data=[results_array], columns = list(results_dict.keys())[:-1])\n",
    "comparison_df.index = ['All Factors, No Normalization']"
   ]
  },
  {
   "cell_type": "markdown",
   "metadata": {},
   "source": [
    "## Qustion 2.2: All Features, With Normalization"
   ]
  },
  {
   "cell_type": "code",
   "execution_count": 16,
   "metadata": {},
   "outputs": [
    {
     "name": "stdout",
     "output_type": "stream",
     "text": [
      "Factors: ['Sex', 'Length', 'Diameter', 'Height', 'Whole Weight', 'Shucked weight', 'Viscera Weight', 'Shell Weight'] | Normalization: True\n",
      "\n",
      "Training RMSE Scores For Each Experiment\n",
      "[2.16019038 2.15544977 2.09491359 2.18768002 2.16243574]\n",
      "mean_rmse_train=2.152133900212072, std_rmse_train=0.030723672400854943\n",
      "Test RMSE Scores for Each Experiment\n",
      "[2.17446924 2.18501183 2.26776421 2.14475909 2.17099548]\n",
      "mean_rmse_test=2.1885999698008765, std_rmse_test=0.041740795625430094\n",
      "\n",
      "Training R2 Scores for Each Experiment\n",
      "[0.55323662 0.55574426 0.55349604 0.55624913 0.56502185]\n",
      "0.5567495791361804=, std_rsq_train=0.004303902992625846\n",
      "Test R2 Scores for Each Experiment\n",
      "[0.54137743 0.53622229 0.54228413 0.5307419  0.52178782]\n",
      "mean_rsq_test=0.5344827146465302, std_rsq_test=0.007570726719482361\n"
     ]
    }
   ],
   "source": [
    "# Run For All Factors, With Normalisation\n",
    "results_dict, results_array = run_lin_regression_experiments(input_df, normalization = True)\n",
    "# Add results to comparison df\n",
    "comparison_df.loc[\"All Factors, With Normalization\", :] = results_array"
   ]
  },
  {
   "cell_type": "markdown",
   "metadata": {},
   "source": [
    "## Question 2.3: Two Features, No Normalization"
   ]
  },
  {
   "cell_type": "code",
   "execution_count": 17,
   "metadata": {},
   "outputs": [
    {
     "name": "stdout",
     "output_type": "stream",
     "text": [
      "Factors: ['Shell Weight', 'Diameter'] | Normalization: False\n",
      "\n",
      "Training RMSE Scores For Each Experiment\n",
      "[2.49504554 2.49534325 2.47504379 2.52875987 2.49470605]\n",
      "mean_rmse_train=2.497779698718713, std_rmse_train=0.017317920036893933\n",
      "Test RMSE Scores for Each Experiment\n",
      "[2.53302705 2.53096374 2.56505753 2.48332211 2.53471775]\n",
      "mean_rmse_test=2.5294176378654902, std_rmse_test=0.02622406912627316\n",
      "\n",
      "Training R2 Scores for Each Experiment\n",
      "[0.40399423 0.40458767 0.37675491 0.40709271 0.42107836]\n",
      "0.4027015751448464=, std_rsq_train=0.014390593238621395\n",
      "Test R2 Scores for Each Experiment\n",
      "[0.37765881 0.37773679 0.414409   0.3708983  0.34812848]\n",
      "mean_rsq_test=0.3777662751743735, std_rsq_test=0.021299154123964287\n"
     ]
    }
   ],
   "source": [
    "# Run For Two Factors, No Normalisation 2.3\n",
    "results_dict, results_array = run_lin_regression_experiments(input_df[['Shell Weight', 'Diameter', input_df.columns[-1]]], normalization = False)\n",
    "# Add Results to Comparison DF\n",
    "comparison_df.loc[\"Shell Weight & Diameter, No Normalization\", :] = results_array"
   ]
  },
  {
   "cell_type": "markdown",
   "metadata": {},
   "source": [
    "## Comparing Results of Different Variations"
   ]
  },
  {
   "cell_type": "code",
   "execution_count": 18,
   "metadata": {},
   "outputs": [
    {
     "data": {
      "text/html": [
       "<div>\n",
       "<style scoped>\n",
       "    .dataframe tbody tr th:only-of-type {\n",
       "        vertical-align: middle;\n",
       "    }\n",
       "\n",
       "    .dataframe tbody tr th {\n",
       "        vertical-align: top;\n",
       "    }\n",
       "\n",
       "    .dataframe thead th {\n",
       "        text-align: right;\n",
       "    }\n",
       "</style>\n",
       "<table border=\"1\" class=\"dataframe\">\n",
       "  <thead>\n",
       "    <tr style=\"text-align: right;\">\n",
       "      <th></th>\n",
       "      <th>mean_rmse_train</th>\n",
       "      <th>mean_rmse_test</th>\n",
       "      <th>std_rmse_train</th>\n",
       "      <th>std_rmse_test</th>\n",
       "      <th>mean_rsq_train</th>\n",
       "      <th>mean_rsq_test</th>\n",
       "      <th>std_rsq_train</th>\n",
       "      <th>std_rsq_test</th>\n",
       "    </tr>\n",
       "  </thead>\n",
       "  <tbody>\n",
       "    <tr>\n",
       "      <th>All Factors, No Normalization</th>\n",
       "      <td>2.176301</td>\n",
       "      <td>2.256953</td>\n",
       "      <td>0.024291</td>\n",
       "      <td>0.034778</td>\n",
       "      <td>0.546691</td>\n",
       "      <td>0.504690</td>\n",
       "      <td>0.005515</td>\n",
       "      <td>0.016273</td>\n",
       "    </tr>\n",
       "    <tr>\n",
       "      <th>All Factors, With Normalization</th>\n",
       "      <td>2.152134</td>\n",
       "      <td>2.188600</td>\n",
       "      <td>0.030724</td>\n",
       "      <td>0.041741</td>\n",
       "      <td>0.556750</td>\n",
       "      <td>0.534483</td>\n",
       "      <td>0.004304</td>\n",
       "      <td>0.007571</td>\n",
       "    </tr>\n",
       "    <tr>\n",
       "      <th>Shell Weight &amp; Diameter, No Normalization</th>\n",
       "      <td>2.497780</td>\n",
       "      <td>2.529418</td>\n",
       "      <td>0.017318</td>\n",
       "      <td>0.026224</td>\n",
       "      <td>0.402702</td>\n",
       "      <td>0.377766</td>\n",
       "      <td>0.014391</td>\n",
       "      <td>0.021299</td>\n",
       "    </tr>\n",
       "  </tbody>\n",
       "</table>\n",
       "</div>"
      ],
      "text/plain": [
       "                                           mean_rmse_train  mean_rmse_test  \\\n",
       "All Factors, No Normalization                     2.176301        2.256953   \n",
       "All Factors, With Normalization                   2.152134        2.188600   \n",
       "Shell Weight & Diameter, No Normalization         2.497780        2.529418   \n",
       "\n",
       "                                           std_rmse_train  std_rmse_test  \\\n",
       "All Factors, No Normalization                    0.024291       0.034778   \n",
       "All Factors, With Normalization                  0.030724       0.041741   \n",
       "Shell Weight & Diameter, No Normalization        0.017318       0.026224   \n",
       "\n",
       "                                           mean_rsq_train  mean_rsq_test  \\\n",
       "All Factors, No Normalization                    0.546691       0.504690   \n",
       "All Factors, With Normalization                  0.556750       0.534483   \n",
       "Shell Weight & Diameter, No Normalization        0.402702       0.377766   \n",
       "\n",
       "                                           std_rsq_train  std_rsq_test  \n",
       "All Factors, No Normalization                   0.005515      0.016273  \n",
       "All Factors, With Normalization                 0.004304      0.007571  \n",
       "Shell Weight & Diameter, No Normalization       0.014391      0.021299  "
      ]
     },
     "execution_count": 18,
     "metadata": {},
     "output_type": "execute_result"
    }
   ],
   "source": [
    "comparison_df"
   ]
  },
  {
   "cell_type": "code",
   "execution_count": null,
   "metadata": {},
   "outputs": [],
   "source": []
  },
  {
   "cell_type": "code",
   "execution_count": 19,
   "metadata": {},
   "outputs": [
    {
     "ename": "NameError",
     "evalue": "name 'BREAK' is not defined",
     "output_type": "error",
     "traceback": [
      "\u001b[1;31m---------------------------------------------------------------------------\u001b[0m",
      "\u001b[1;31mNameError\u001b[0m                                 Traceback (most recent call last)",
      "\u001b[1;32mc:\\Dropbox\\Variance\\UNSW\\ZZSC5836\\Assess2.ipynb Cell 40\u001b[0m line \u001b[0;36m<cell line: 1>\u001b[1;34m()\u001b[0m\n\u001b[1;32m----> <a href='vscode-notebook-cell:/c%3A/Dropbox/Variance/UNSW/ZZSC5836/Assess2.ipynb#X65sZmlsZQ%3D%3D?line=0'>1</a>\u001b[0m BREAK\n",
      "\u001b[1;31mNameError\u001b[0m: name 'BREAK' is not defined"
     ]
    }
   ],
   "source": [
    "BREAK"
   ]
  },
  {
   "cell_type": "code",
   "execution_count": null,
   "metadata": {},
   "outputs": [],
   "source": []
  },
  {
   "cell_type": "code",
   "execution_count": null,
   "metadata": {},
   "outputs": [],
   "source": []
  },
  {
   "cell_type": "code",
   "execution_count": null,
   "metadata": {},
   "outputs": [],
   "source": [
    "def mse(true, pred, n):\n",
    "    \"\"\"\n",
    "    true: array of true values    \n",
    "    pred: array of predicted values\n",
    "    \n",
    "    returns: mean square error loss\n",
    "    \"\"\"\n",
    "    \n",
    "    return np.sum((true - pred)**2)/n\n",
    "\n",
    "\n",
    "#def plot_loss_vs_predictions(y_test, y_pred):\n",
    "def plot_loss_vs_predictions():\n",
    "    \"\"\"\n",
    "        Function to plot loss vs number of predictions\n",
    "        Done for a single experiment\n",
    "    \"\"\"\n",
    "\n",
    "    fig, ax1 = plt.subplots(1,1, figsize = (7,5))\n",
    "\n",
    "    # array of same target value 10000 times\n",
    "    target = np.repeat(100, 10000) \n",
    "    pred = np.arange(-10000,10000, 2)\n",
    "\n",
    "    loss = [mse(target[i], pred[i], len(pred)) for i in range(len(pred))]\n",
    "\n",
    "    # plot \n",
    "    ax1.plot(pred, loss)\n",
    "    ax1.set_xlabel('Predictions')\n",
    "    ax1.set_ylabel('Loss')\n",
    "    ax1.set_title(\"MSE Loss vs. Predictions\")\n",
    "\n",
    "    fig.tight_layout()\n",
    "    "
   ]
  },
  {
   "cell_type": "code",
   "execution_count": null,
   "metadata": {},
   "outputs": [
    {
     "name": "stdout",
     "output_type": "stream",
     "text": [
      "1671\n",
      "[ 8. 10.  8. ...  7. 11.  7.]\n",
      "1671\n",
      "[ 8.34312592  9.19195369 11.02034165 ...  9.67862475  9.48856707\n",
      "  7.61830715]\n"
     ]
    }
   ],
   "source": [
    "print(len(y_test))\n",
    "print(y_test)\n",
    "print(len(y_pred))\n",
    "print(y_pred)"
   ]
  },
  {
   "cell_type": "code",
   "execution_count": null,
   "metadata": {},
   "outputs": [
    {
     "data": {
      "image/png": "[encoded data removed]",
      "text/plain": [
       "<Figure size 504x360 with 1 Axes>"
      ]
     },
     "metadata": {
      "needs_background": "light"
     },
     "output_type": "display_data"
    }
   ],
   "source": [
    "plot_loss_vs_predictions()"
   ]
  },
  {
   "cell_type": "code",
   "execution_count": null,
   "metadata": {},
   "outputs": [
    {
     "name": "stdout",
     "output_type": "stream",
     "text": [
      "[100 100 100 ... 100 100 100]\n",
      "[-10000  -9998  -9996 ...   9994   9996   9998]\n"
     ]
    }
   ],
   "source": [
    "\n",
    "print(np.repeat(100, 10000) )\n",
    "print(np.arange(-10000,10000, 2))"
   ]
  },
  {
   "cell_type": "code",
   "execution_count": null,
   "metadata": {},
   "outputs": [],
   "source": []
  }
 ],
 "metadata": {
  "kernelspec": {
   "display_name": "base",
   "language": "python",
   "name": "python3"
  },
  "language_info": {
   "codemirror_mode": {
    "name": "ipython",
    "version": 3
   },
   "file_extension": ".py",
   "mimetype": "text/x-python",
   "name": "python",
   "nbconvert_exporter": "python",
   "pygments_lexer": "ipython3",
   "version": "3.8.12"
  }
 },
 "nbformat": 4,
 "nbformat_minor": 2
}
