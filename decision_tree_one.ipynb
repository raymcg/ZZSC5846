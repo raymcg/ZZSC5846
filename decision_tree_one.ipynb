{
 "cells": [
  {
   "cell_type": "markdown",
   "metadata": {},
   "source": [
    "# Decision Tree: Tennis Example"
   ]
  },
  {
   "cell_type": "code",
   "execution_count": 1,
   "metadata": {},
   "outputs": [],
   "source": [
    "#!/usr/bin/env python3\n",
    "# -*- coding: utf-8 -*-\n",
    "\"\"\"\n",
    "Created on Sun Aug  2 11:25:59 2020\n",
    "\n",
    "@author: ashesh\n",
    "\"\"\"\n",
    "\n",
    "# Load libraries\n",
    "import matplotlib.pyplot as plt\n",
    "import seaborn as sns\n",
    "from sklearn.tree import DecisionTreeClassifier \n",
    "from sklearn.tree import export_text\n",
    "from sklearn.model_selection import train_test_split\n",
    "from sklearn.metrics import confusion_matrix\n",
    "import pandas as pd\n",
    "import numpy as np"
   ]
  },
  {
   "cell_type": "code",
   "execution_count": 2,
   "metadata": {},
   "outputs": [
    {
     "name": "stdout",
     "output_type": "stream",
     "text": [
      "================ =============== \n",
      "       outlook  temp humidity  wind\n",
      "count       42    42       42    42\n",
      "unique       3     3        2     2\n",
      "top      Sunny  Mild     High  Weak\n",
      "freq        15    18       21    24\n",
      "================ =============== \n"
     ]
    }
   ],
   "source": [
    "# Create URL\n",
    "url = \"c:\\\\dropbox\\\\variance\\\\unsw\\\\zzsc5836\\\\raw_data\\\\data_tennis.csv\"\n",
    "\n",
    "# Load dataset\n",
    "dataframe = pd.read_csv(url)\n",
    "dataframe.dropna(inplace = True) \n",
    "featureframe = dataframe.iloc[:, 1 : -1 ]\n",
    "targetframe = dataframe.iloc[:,  -1 ]\n",
    "\n",
    "# For more on descriptive statistics in pandas\n",
    "# see https://www.tutorialspoint.com/python_pandas/python_pandas_descriptive_statistics.htm\n",
    "print(\"================ =============== \")\n",
    "print(featureframe.describe())\n",
    "print(\"================ =============== \")\n",
    "\n",
    "\n",
    "dummy_cols = [ 'outlook', 'temp', 'humidity', 'wind'] \n",
    "\n",
    "ff = pd.get_dummies(featureframe, columns=dummy_cols, drop_first=True) \n",
    "feature_names = ff.columns\n",
    "features = pd.DataFrame(ff).to_numpy( )\n",
    "\n",
    "tf = pd.get_dummies(targetframe, columns=['play'] , drop_first=True) \n",
    "target_name = tf.columns\n",
    "target = pd.DataFrame(tf).to_numpy( )\n",
    "target = np.ravel(target)"
   ]
  },
  {
   "cell_type": "code",
   "execution_count": 3,
   "metadata": {},
   "outputs": [
    {
     "name": "stdout",
     "output_type": "stream",
     "text": [
      "(42, 6)\n",
      "[[0 1 1 0 0 1]\n",
      " [0 1 1 0 0 0]\n",
      " [0 0 1 0 0 1]\n",
      " [1 0 0 1 0 1]\n",
      " [1 0 0 0 1 1]]\n",
      "(42,)\n",
      "[0 0 0 1 1]\n"
     ]
    }
   ],
   "source": [
    "print(features.shape)\n",
    "print(features[:5])\n",
    "print(target.shape)\n",
    "print(target[:5])"
   ]
  },
  {
   "cell_type": "code",
   "execution_count": 6,
   "metadata": {},
   "outputs": [
    {
     "name": "stdout",
     "output_type": "stream",
     "text": [
      "|--- wind_Weak <= 0.50\n",
      "|   |--- temp_Hot <= 0.50\n",
      "|   |   |--- outlook_Sunny <= 0.50\n",
      "|   |   |   |--- outlook_Rain <= 0.50\n",
      "|   |   |   |   |--- weights: [0.00, 3.00] class: 1\n",
      "|   |   |   |--- outlook_Rain >  0.50\n",
      "|   |   |   |   |--- weights: [5.00, 0.00] class: 0\n",
      "|   |   |--- outlook_Sunny >  0.50\n",
      "|   |   |   |--- weights: [0.00, 2.00] class: 1\n",
      "|   |--- temp_Hot >  0.50\n",
      "|   |   |--- weights: [3.00, 0.00] class: 0\n",
      "|--- wind_Weak >  0.50\n",
      "|   |--- temp_Mild <= 0.50\n",
      "|   |   |--- temp_Hot <= 0.50\n",
      "|   |   |   |--- weights: [0.00, 4.00] class: 1\n",
      "|   |   |--- temp_Hot >  0.50\n",
      "|   |   |   |--- humidity_Normal <= 0.50\n",
      "|   |   |   |   |--- outlook_Sunny <= 0.50\n",
      "|   |   |   |   |   |--- weights: [1.00, 1.00] class: 0\n",
      "|   |   |   |   |--- outlook_Sunny >  0.50\n",
      "|   |   |   |   |   |--- weights: [2.00, 0.00] class: 0\n",
      "|   |   |   |--- humidity_Normal >  0.50\n",
      "|   |   |   |   |--- weights: [0.00, 3.00] class: 1\n",
      "|   |--- temp_Mild >  0.50\n",
      "|   |   |--- outlook_Rain <= 0.50\n",
      "|   |   |   |--- weights: [3.00, 0.00] class: 0\n",
      "|   |   |--- outlook_Rain >  0.50\n",
      "|   |   |   |--- weights: [0.00, 4.00] class: 1\n",
      "\n",
      "\n",
      "Classification Report:\n",
      "              precision    recall  f1-score   support\n",
      "\n",
      "           0       0.67      0.40      0.50         5\n",
      "           1       0.62      0.83      0.71         6\n",
      "\n",
      "    accuracy                           0.64        11\n",
      "   macro avg       0.65      0.62      0.61        11\n",
      "weighted avg       0.64      0.64      0.62        11\n",
      "\n",
      "\n",
      "Accuracy Score:\n",
      "0.6363636363636364\n"
     ]
    },
    {
     "name": "stderr",
     "output_type": "stream",
     "text": [
      "c:\\ProgramData\\Anaconda3\\lib\\site-packages\\sklearn\\tree\\_classes.py:298: FutureWarning: `max_features='auto'` has been deprecated in 1.1 and will be removed in 1.3. To keep the past behaviour, explicitly set `max_features='sqrt'`.\n",
      "  warnings.warn(\n"
     ]
    },
    {
     "data": {
      "image/png": "[encoded data removed]",
      "text/plain": [
       "<Figure size 432x288 with 2 Axes>"
      ]
     },
     "metadata": {
      "needs_background": "light"
     },
     "output_type": "display_data"
    }
   ],
   "source": [
    "# split into training and test sets\n",
    "features_train, features_test, target_train, target_test = train_test_split(features, target, random_state=25)\n",
    "\n",
    "#%%\n",
    "\n",
    "tree_depth = 20\n",
    "min_in_leaf = 1\n",
    "#classifier =  DecisionTreeClassifier(random_state=0, max_depth=tree_depth)\n",
    "classifier =  DecisionTreeClassifier(max_features=\"auto\", random_state=25, min_samples_leaf=min_in_leaf, max_depth=tree_depth)\n",
    "\n",
    "# train model \n",
    "decision_tree = classifier.fit(features_train, target_train)\n",
    "\n",
    "#plot_tree(decision_tree) \n",
    "r = export_text(decision_tree, show_weights=True, feature_names= list(ff.columns)) \n",
    "print(r)\n",
    " \n",
    "# now make predictions\n",
    "target_predicted = decision_tree.predict(features_test)\n",
    "\n",
    "\n",
    "from sklearn.metrics import classification_report\n",
    "# https://scikit-learn.org/stable/modules/generated/sklearn.metrics.classification_report.html\n",
    "print(\"\\nClassification Report:\")\n",
    "print(classification_report(target_test, target_predicted))\n",
    "\n",
    "#print the accuracy score\n",
    "from sklearn.metrics import accuracy_score\n",
    "print(\"\\nAccuracy Score:\")\n",
    "print(accuracy_score(target_test, target_predicted))\n",
    "\n",
    "# create confusion matrix\n",
    "matrix = confusion_matrix(target_test, target_predicted)\n",
    "\n",
    "\n",
    "# create pandas dataframe\n",
    "class_names = ['Play_No', 'Play_Yes']\n",
    "dataframe_Confusion = pd.DataFrame(matrix, index=class_names, columns=class_names)\n",
    "\n",
    "# create heatmap\n",
    "sns.heatmap(dataframe_Confusion, annot=True,  cmap=\"Blues\", fmt=\".0f\")\n",
    "plt.title(\"Confusion Matrix\")\n",
    "plt.tight_layout()\n",
    "plt.ylabel(\"True Class\")\n",
    "plt.xlabel(\"Predicted Class\")\n",
    "plt.savefig('./confusion_matrix.png')\n",
    "plt.show()\n",
    "plt.close()"
   ]
  },
  {
   "cell_type": "code",
   "execution_count": null,
   "metadata": {},
   "outputs": [],
   "source": []
  }
 ],
 "metadata": {
  "kernelspec": {
   "display_name": "base",
   "language": "python",
   "name": "python3"
  },
  "language_info": {
   "codemirror_mode": {
    "name": "ipython",
    "version": 3
   },
   "file_extension": ".py",
   "mimetype": "text/x-python",
   "name": "python",
   "nbconvert_exporter": "python",
   "pygments_lexer": "ipython3",
   "version": "3.8.12"
  }
 },
 "nbformat": 4,
 "nbformat_minor": 2
}
