{
 "cells": [
  {
   "cell_type": "code",
   "execution_count": 1,
   "metadata": {},
   "outputs": [],
   "source": [
    "import numpy as np\n",
    "from numpy import * # Needed for genfromtxt\n",
    "import pandas as pd # Need for read_csv\n"
   ]
  },
  {
   "cell_type": "markdown",
   "metadata": {},
   "source": [
    "# Read Files"
   ]
  },
  {
   "cell_type": "code",
   "execution_count": 2,
   "metadata": {},
   "outputs": [],
   "source": [
    "# fpath for unsw directory on desktop\n",
    "fpath = 'C:/Dropbox/Variance/UNSW/ZZSC5836/Snippets/'\n",
    "fname = fpath+'abalone.csv'"
   ]
  },
  {
   "cell_type": "code",
   "execution_count": 3,
   "metadata": {},
   "outputs": [],
   "source": [
    "\n",
    "data_in = genfromtxt(fpath+'abalone.csv', delimiter=\",\") # in case of csv data \n",
    "## OR ##\n",
    "input_df = pd.read_csv(fpath+'abalone.csv', delimiter=\",\", header=None) # in case of csv data"
   ]
  },
  {
   "cell_type": "code",
   "execution_count": 4,
   "metadata": {},
   "outputs": [
    {
     "name": "stdout",
     "output_type": "stream",
     "text": [
      "data_in\n",
      "[[    nan  0.455   0.365  ...  0.101   0.15   15.    ]\n",
      " [    nan  0.35    0.265  ...  0.0485  0.07    7.    ]\n",
      " [    nan  0.53    0.42   ...  0.1415  0.21    9.    ]\n",
      " ...\n",
      " [    nan  0.6     0.475  ...  0.2875  0.308   9.    ]\n",
      " [    nan  0.625   0.485  ...  0.261   0.296  10.    ]\n",
      " [    nan  0.71    0.555  ...  0.3765  0.495  12.    ]]\n",
      "input_df\n",
      "   0      1      2      3       4       5       6      7   8\n",
      "0  M  0.455  0.365  0.095  0.5140  0.2245  0.1010  0.150  15\n",
      "1  M  0.350  0.265  0.090  0.2255  0.0995  0.0485  0.070   7\n",
      "2  F  0.530  0.420  0.135  0.6770  0.2565  0.1415  0.210   9\n",
      "3  M  0.440  0.365  0.125  0.5160  0.2155  0.1140  0.155  10\n",
      "4  I  0.330  0.255  0.080  0.2050  0.0895  0.0395  0.055   7\n"
     ]
    }
   ],
   "source": [
    "print('data_in')\n",
    "print(data_in)\n",
    "print('input_df')\n",
    "print(input_df.head())"
   ]
  },
  {
   "cell_type": "markdown",
   "metadata": {},
   "source": [
    "# Numpy Arrays"
   ]
  },
  {
   "cell_type": "markdown",
   "metadata": {},
   "source": [
    "## Create New Arrays"
   ]
  },
  {
   "cell_type": "code",
   "execution_count": 5,
   "metadata": {},
   "outputs": [
    {
     "name": "stdout",
     "output_type": "stream",
     "text": [
      "\n",
      "W1\n",
      "[[0. 0. 0. 0. 0.]\n",
      " [0. 0. 0. 0. 0.]\n",
      " [0. 0. 0. 0. 0.]\n",
      " [0. 0. 0. 0. 0.]\n",
      " [0. 0. 0. 0. 0.]]\n",
      "B1\n",
      "[[0. 0. 0. 0. 0.]]\n"
     ]
    }
   ],
   "source": [
    "# Create a numpy matrix and vector of zeros\n",
    "W1 = np.zeros((5,5)) # Create a numpy matrix of zeros\n",
    "B1 = np.zeros((1,5)) # Create a numpy vector of zeros\n",
    "\n",
    "print('\\nW1')\n",
    "print(W1)\n",
    "print('B1')\n",
    "print(B1)"
   ]
  },
  {
   "cell_type": "code",
   "execution_count": 6,
   "metadata": {},
   "outputs": [
    {
     "name": "stdout",
     "output_type": "stream",
     "text": [
      "\n",
      "Weights\n",
      "[[ 0.09569426  0.09215963 -0.03844552 -0.20718851  0.23219015]\n",
      " [ 0.19852377 -0.43925304 -0.02512835 -0.43672887 -0.19586586]\n",
      " [-0.2877745   0.37965678  0.31750945 -0.18861042 -0.24785529]\n",
      " [ 0.32639357  0.21262322 -0.03415582 -0.21354047  0.05941082]\n",
      " [-0.15436541  0.09510357  0.23269195 -0.07975527 -0.33781019]]\n",
      "Bias [[-0.13366374  0.32242025 -0.03900415  0.31077965  0.22314774]]\n"
     ]
    }
   ],
   "source": [
    "# Create a numpy matrix and vector of random numbers\n",
    "# With the values being between -0.5 and 0.5\n",
    "\n",
    "weights = np.random.rand(5,5)-0.5 # 5x5 matrix of random numbers between -0.5 and 0.5\n",
    "bias = np.random.rand(1, 5)-0.5 # 1x5 vector of random numbers between -0.5 and 0.5\n",
    "\n",
    "\n",
    "print('\\nWeights')\n",
    "print(weights)\n",
    "print('Bias', bias)\n"
   ]
  },
  {
   "cell_type": "markdown",
   "metadata": {
    "vscode": {
     "languageId": "plaintext"
    }
   },
   "source": [
    "## Reshape an Array"
   ]
  },
  {
   "cell_type": "markdown",
   "metadata": {},
   "source": [
    "Syntax: \n",
    "\n",
    "reshaped_array = old_array.reshape(rows,columns)\n",
    "\n",
    "MUST declare the array as np array when creating it or reshape method will not run as it is a numpy method."
   ]
  },
  {
   "cell_type": "markdown",
   "metadata": {},
   "source": [
    "You are allowed to have one \"unknown\" dimension.\n",
    "Meaning that you do not have to specify an exact number for one of the dimensions in the reshape method.\n",
    "Pass -1 as the value, and NumPy will calculate this number for you."
   ]
  },
  {
   "cell_type": "code",
   "execution_count": 7,
   "metadata": {},
   "outputs": [
    {
     "name": "stdout",
     "output_type": "stream",
     "text": [
      "[[0.11465981 0.02840927]\n",
      " [0.05212458 0.64751754]] \n",
      "\n",
      "[[0.11465981]\n",
      " [0.02840927]\n",
      " [0.05212458]\n",
      " [0.64751754]]\n",
      "(4, 1)\n",
      "[[0.11465981 0.02840927 0.05212458 0.64751754]]\n",
      "(1, 4)\n"
     ]
    }
   ],
   "source": [
    "## Reshape A 3x3 Array to be a vector\n",
    "A = np.random.rand(2,2)\n",
    "print(A,\"\\n\")\n",
    "\n",
    "# Syntax: reshape(rows, columns)\n",
    "\n",
    "print(A.reshape(-1,1)) # Reshape to a column vector\n",
    "print(A.reshape(-1,1).shape) \n",
    "print(A.reshape(1,-1))  # Reshape to a row vector\n",
    "print(A.reshape(1,-1).shape)  \n"
   ]
  },
  {
   "cell_type": "code",
   "execution_count": 8,
   "metadata": {},
   "outputs": [
    {
     "name": "stdout",
     "output_type": "stream",
     "text": [
      "[[1 2 3]\n",
      " [4 5 6]]\n",
      "[[1 2 3]\n",
      " [4 5 6]]\n"
     ]
    }
   ],
   "source": [
    "# Go From a 1D Array to a 2D Array\n",
    "sample_vector = np.array([1,2,3,4,5,6])\n",
    "print(sample_vector.reshape(2,3)) # Reshape to a 2x3 matrix\n",
    "print(sample_vector.reshape(2,-1)) # Also reshapes to a 2x3 matrix but calculates the 3 automatically"
   ]
  },
  {
   "cell_type": "markdown",
   "metadata": {},
   "source": [
    "## np.arange: Create a range of values in an array"
   ]
  },
  {
   "cell_type": "code",
   "execution_count": 9,
   "metadata": {},
   "outputs": [
    {
     "data": {
      "text/plain": [
       "array([0.01, 0.03, 0.05, 0.07, 0.09])"
      ]
     },
     "execution_count": 9,
     "metadata": {},
     "output_type": "execute_result"
    }
   ],
   "source": [
    "learn_ratevec = np.arange(0.01, 0.1, 0.02) # create a vector starting at 0.01, ending at 0.1, with a step of 0.02\n",
    "learn_ratevec"
   ]
  },
  {
   "cell_type": "markdown",
   "metadata": {},
   "source": [
    "## Print Array at a Certain Precision"
   ]
  },
  {
   "cell_type": "code",
   "execution_count": 10,
   "metadata": {},
   "outputs": [
    {
     "name": "stdout",
     "output_type": "stream",
     "text": [
      "[[ 0.096  0.092 -0.038 -0.207  0.232]\n",
      " [ 0.199 -0.439 -0.025 -0.437 -0.196]\n",
      " [-0.288  0.38   0.318 -0.189 -0.248]\n",
      " [ 0.326  0.213 -0.034 -0.214  0.059]\n",
      " [-0.154  0.095  0.233 -0.08  -0.338]]\n"
     ]
    }
   ],
   "source": [
    "## Print an array at a certain precision\n",
    "np.set_printoptions(precision = 3) #Setting precision for the output\n",
    "\n",
    "print(weights)"
   ]
  },
  {
   "cell_type": "markdown",
   "metadata": {},
   "source": [
    "## Binarize A Vector"
   ]
  },
  {
   "cell_type": "code",
   "execution_count": 11,
   "metadata": {},
   "outputs": [
    {
     "data": {
      "text/plain": [
       "array([1, 1, 1, 1, 1])"
      ]
     },
     "execution_count": 11,
     "metadata": {},
     "output_type": "execute_result"
    }
   ],
   "source": [
    "\n",
    "y_train = np.array([0.1, 0.2, 0.3, 0.4, 0.5])\n",
    "\n",
    "threshold = 0  # Define your threshold here\n",
    "y_train_binary = (y_train > threshold).astype(int)\n",
    "y_train_binary"
   ]
  },
  {
   "cell_type": "code",
   "execution_count": null,
   "metadata": {},
   "outputs": [],
   "source": []
  }
 ],
 "metadata": {
  "kernelspec": {
   "display_name": "Python 3",
   "language": "python",
   "name": "python3"
  },
  "language_info": {
   "codemirror_mode": {
    "name": "ipython",
    "version": 3
   },
   "file_extension": ".py",
   "mimetype": "text/x-python",
   "name": "python",
   "nbconvert_exporter": "python",
   "pygments_lexer": "ipython3",
   "version": "3.8.12"
  }
 },
 "nbformat": 4,
 "nbformat_minor": 2
}
