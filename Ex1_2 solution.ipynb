{
 "cells": [
  {
   "cell_type": "markdown",
   "metadata": {},
   "source": [
    "# Import Libraries"
   ]
  },
  {
   "cell_type": "code",
   "execution_count": 1,
   "metadata": {},
   "outputs": [],
   "source": [
    "import numpy as np \n",
    "\n",
    "import matplotlib.pyplot as plt\n",
    "\n",
    "from sklearn import datasets, linear_model\n",
    "from sklearn.metrics import mean_squared_error, r2_score\n",
    "import random\n",
    "from numpy import *  \n",
    "from sklearn.metrics import accuracy_score \n",
    "from sklearn.preprocessing import Normalizer\n",
    "from sklearn.model_selection import train_test_split\n",
    "\n",
    "from scipy.stats import pearsonr"
   ]
  },
  {
   "cell_type": "markdown",
   "metadata": {},
   "source": [
    "# Functions"
   ]
  },
  {
   "cell_type": "markdown",
   "metadata": {},
   "source": [
    "## Get Data"
   ]
  },
  {
   "cell_type": "code",
   "execution_count": 2,
   "metadata": {},
   "outputs": [],
   "source": [
    "def get_data(normalise, i): \n",
    "\n",
    "    data_in = genfromtxt('C:/Dropbox/Variance/UNSW/ZZSC5836/raw_data/energydata.csv', delimiter=\",\") # in case of csv data\n",
    " \n",
    "\n",
    "    #data_inputx = data_in[:,0:8] # all features 0, - 7\n",
    "    #data_inputx = data_in[:,[1]]  # one feature\n",
    "    data_inputx = data_in[:,[0,3]]  # two features   \n",
    "\n",
    "    if normalise == True:\n",
    "        transformer = Normalizer().fit(data_inputx)  # fit does nothing.\n",
    "        data_inputx = transformer.transform(data_inputx)\n",
    " \n",
    "\n",
    "    #cov_mat = np.cov(data_in.T)\n",
    "\n",
    "    corr_mat = np.corrcoef(data_in.T)\n",
    "\n",
    "    print(corr_mat[:,8], ' is the corr matrix of the data read')\n",
    "\n",
    "    plt.imshow(corr_mat, cmap='hot', interpolation='nearest') \n",
    "    plt.colorbar()\n",
    "    fig1 = plt.gcf()\n",
    "    #plt.clf()\n",
    "    \n",
    "\n",
    "    data_inputy = data_in[:,8] # this is target - so that last col is selected from data\n",
    "\n",
    "    percent_test = 0.4\n",
    "    '''testsize = int(percent_test * data_inputx.shape[0]) \n",
    "    x_train = data_inputx[:-testsize]\n",
    "    x_test = data_inputx[-testsize:] \n",
    "    y_train = data_inputy[:-testsize]\n",
    "    y_test = data_inputy[-testsize:]'''\n",
    "\n",
    "\n",
    "      #another way you can use scikit-learn train test split with random state\n",
    "    x_train, x_test, y_train, y_test = train_test_split(data_inputx, data_inputy, test_size=percent_test, random_state=i)\n",
    "\n",
    "    return x_train, x_test, y_train, y_test, fig1"
   ]
  },
  {
   "cell_type": "markdown",
   "metadata": {},
   "source": [
    "## Models"
   ]
  },
  {
   "cell_type": "code",
   "execution_count": 3,
   "metadata": {},
   "outputs": [],
   "source": [
    "def scikit_linear_mod(x_train, x_test, y_train, y_test): \n",
    " \n",
    "    regr = linear_model.LinearRegression()\n",
    "\n",
    " \n",
    "    # Train the model using the training sets\n",
    "    regr.fit(x_train, y_train)\n",
    "\n",
    "    # Make predictions using the testing set\n",
    "    y_pred = regr.predict(x_test)\n",
    " \n",
    "    rmse = np.sqrt(mean_squared_error(y_test, y_pred))  \n",
    "    rsquared = r2_score(y_test, y_pred) \n",
    " \n",
    "    '''residuals = y_pred - y_test\n",
    "    plt.plot(residuals, linewidth=1)\n",
    " \n",
    "    plt.savefig('scikit_linear.png')'''\n",
    "\n",
    "    return rmse, rsquared, regr.coef_\n"
   ]
  },
  {
   "cell_type": "markdown",
   "metadata": {},
   "source": [
    "# Main / Output"
   ]
  },
  {
   "cell_type": "code",
   "execution_count": 4,
   "metadata": {},
   "outputs": [
    {
     "name": "stdout",
     "output_type": "stream",
     "text": [
      "[ 0.62227218 -0.65812023  0.45567116 -0.86182825  0.88943067 -0.00258653\n",
      "  0.269841    0.08736759  1.          0.97586181]  is the corr matrix of the data read\n"
     ]
    },
    {
     "data": {
      "image/png": "[encoded data removed]",
      "text/plain": [
       "<Figure size 432x288 with 2 Axes>"
      ]
     },
     "metadata": {
      "needs_background": "light"
     },
     "output_type": "display_data"
    },
    {
     "name": "stdout",
     "output_type": "stream",
     "text": [
      "[4.71381003]\n",
      "[0.77956739]\n",
      "4.713810034397809 0.0  mean_rmse std_rmse\n",
      "0.7795673875287817 0.0  mean_rsq std_rsq\n"
     ]
    }
   ],
   "source": [
    "# Run Main\n",
    "\n",
    "normalise = False\n",
    " \n",
    "max_exp = 1\n",
    "\n",
    "rmse_list = np.zeros(max_exp)\n",
    "rsq_list = np.zeros(max_exp)\n",
    "\n",
    "for i in range(0,max_exp):\n",
    "    \n",
    "    x_train, x_test, y_train, y_test, fig1 = get_data(normalise, i)\n",
    "    rmse, rsquared, coef = scikit_linear_mod(x_train, x_test, y_train, y_test)\n",
    "    \n",
    "    rmse_list[i] = rmse\n",
    "    rsq_list[i] = rsquared \n",
    "    \n",
    "plt.show()\n",
    "\n",
    "print(rmse_list)\n",
    "# Explained variance score: 1 is perfect prediction \n",
    "print(rsq_list)\n",
    "\n",
    "mean_rmse = np.mean(rmse_list)\n",
    "std_rmse = np.std(rmse_list)\n",
    "\n",
    "mean_rsq = np.mean(rsq_list)\n",
    "std_rsq = np.std(rsq_list)\n",
    "\n",
    "print(mean_rmse, std_rmse, ' mean_rmse std_rmse')\n",
    "\n",
    "print(mean_rsq, std_rsq, ' mean_rsq std_rsq')"
   ]
  },
  {
   "cell_type": "code",
   "execution_count": 8,
   "metadata": {},
   "outputs": [],
   "source": [
    "plt.show()"
   ]
  },
  {
   "cell_type": "code",
   "execution_count": null,
   "metadata": {},
   "outputs": [],
   "source": []
  }
 ],
 "metadata": {
  "kernelspec": {
   "display_name": "base",
   "language": "python",
   "name": "python3"
  },
  "language_info": {
   "codemirror_mode": {
    "name": "ipython",
    "version": 3
   },
   "file_extension": ".py",
   "mimetype": "text/x-python",
   "name": "python",
   "nbconvert_exporter": "python",
   "pygments_lexer": "ipython3",
   "version": "3.8.12"
  }
 },
 "nbformat": 4,
 "nbformat_minor": 2
}
