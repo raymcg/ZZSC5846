{
 "cells": [
  {
   "cell_type": "code",
   "execution_count": 12,
   "metadata": {},
   "outputs": [],
   "source": [
    "import pandas as pd\n",
    "import matplotlib.pyplot as plt\n",
    "import numpy as np\n"
   ]
  },
  {
   "cell_type": "markdown",
   "metadata": {},
   "source": [
    "# Functions"
   ]
  },
  {
   "cell_type": "markdown",
   "metadata": {},
   "source": [
    "## Import Data"
   ]
  },
  {
   "cell_type": "code",
   "execution_count": 13,
   "metadata": {},
   "outputs": [],
   "source": [
    "def import_data():\n",
    "    data = pd.read_csv('C:/Dropbox/Variance/UNSW/ZZSC5836/raw_data/iris.data', sep = ',', header = None)\n",
    "    data = data.values\n",
    "    data[:,4] = np.where(data[:,4] == 'Iris-setosa', 1, np.where(data[:,4] == 'Iris-versicolor', 2, 3))\n",
    "    return data"
   ]
  },
  {
   "cell_type": "markdown",
   "metadata": {},
   "source": [
    "## Basic Stats"
   ]
  },
  {
   "cell_type": "code",
   "execution_count": 14,
   "metadata": {},
   "outputs": [],
   "source": [
    "def mean_sd_col(data):\n",
    "    mean = data.mean(0)\n",
    "    sd = data.std(0)\n",
    "    return mean, sd\n",
    "\n",
    "def class_dist(data, num_classes):\n",
    "    for i in range(num_classes):\n",
    "        placeholder[i] = np.count_nonzero(data == i+1)"
   ]
  },
  {
   "cell_type": "markdown",
   "metadata": {},
   "source": [
    "## Histograms"
   ]
  },
  {
   "cell_type": "code",
   "execution_count": 15,
   "metadata": {},
   "outputs": [],
   "source": [
    "def hist_plot(name, data):\n",
    "    plt.figure()\n",
    "    plt.hist(data)\n",
    "    plt.title(name)\n",
    "    plt.savefig(name+'.png', dpi = 500)"
   ]
  },
  {
   "cell_type": "markdown",
   "metadata": {},
   "source": [
    "## Dataset Splitting"
   ]
  },
  {
   "cell_type": "code",
   "execution_count": 16,
   "metadata": {},
   "outputs": [],
   "source": [
    "def data_split_random(data_x, data_y, portion):\n",
    "    order = np.random.permutation(len(data_x))\n",
    "    index = int(portion*len(data_x))\n",
    "    x_train = data_x[order[:index]]\n",
    "    x_test = data_x[order[index:]]\n",
    "    y_train = data_y[order[:index]]\n",
    "    y_test =  data_y[order[index:]]\n",
    "    return x_train, x_test, y_train, y_test\n",
    "\n",
    "def data_split_nonrandom(data_x, data_y, portion):\n",
    "    index = int(portion*len(data_x))\n",
    "    x_train = data_x[:index]\n",
    "    x_test = data_x[index:]\n",
    "    y_train = data_y[:index]\n",
    "    y_test =  data_y[index:]\n",
    "    return x_train, x_test, y_train, y_test    \n",
    "    "
   ]
  },
  {
   "cell_type": "markdown",
   "metadata": {},
   "source": [
    "## Feature Subset"
   ]
  },
  {
   "cell_type": "code",
   "execution_count": 17,
   "metadata": {},
   "outputs": [],
   "source": [
    "def feature_subset(feature, x_train):\n",
    "    x_train_sub = x_train[:,feature]\n",
    "    return x_train_sub"
   ]
  },
  {
   "cell_type": "markdown",
   "metadata": {},
   "source": [
    "## Binary Class"
   ]
  },
  {
   "cell_type": "code",
   "execution_count": 18,
   "metadata": {},
   "outputs": [],
   "source": [
    "def binary_class(data):\n",
    "    subset = data[data[:,4]<3]\n",
    "    subset_x = subset[:,:4].astype(float)\n",
    "    subset_y = subset[:, 4]\n",
    "    sub_x_train, sub_x_test, sub_y_train, sub_y_test = data_split_random(subset_x,subset_y, 0.6)\n",
    "    sub_train = np.hstack((sub_x_train, sub_y_train[:,np.newaxis]))\n",
    "    sub_test = np.hstack((sub_x_test, sub_y_test[:,np.newaxis]))\n",
    "    np.savetxt('binary_iristrain.txt',sub_train)\n",
    "    np.savetxt('binary_iristest.txt',sub_test)\n",
    "    return sub_train, sub_test"
   ]
  },
  {
   "cell_type": "markdown",
   "metadata": {},
   "source": [
    "## Normalization"
   ]
  },
  {
   "cell_type": "code",
   "execution_count": 19,
   "metadata": {},
   "outputs": [],
   "source": [
    "def minmaxnormal(data_x):\n",
    "    min_x = data_x.min(0)\n",
    "    max_x = data_x.max(0)\n",
    "    data_scaled = (data_x-min_x)/(max_x-min_x)\n",
    "    return data_scaled"
   ]
  },
  {
   "cell_type": "markdown",
   "metadata": {},
   "source": [
    "# Main / Results"
   ]
  },
  {
   "cell_type": "code",
   "execution_count": 20,
   "metadata": {},
   "outputs": [],
   "source": [
    "# Q1 : The import_data function has both the import and replace tasks combined\n",
    "\n",
    "iris = import_data()\n",
    "iris_x = iris[:,:4].astype(float)\n",
    "iris_y = iris[:, 4]"
   ]
  },
  {
   "cell_type": "code",
   "execution_count": 21,
   "metadata": {},
   "outputs": [
    {
     "name": "stdout",
     "output_type": "stream",
     "text": [
      "Column Means are  [5.84333333 3.054      3.75866667 1.19866667]\n",
      "Column Standard Deviations are  [0.82530129 0.43214658 1.75852918 0.76061262]\n"
     ]
    }
   ],
   "source": [
    "### Q2\n",
    "    \n",
    "mean_x, sd_x = mean_sd_col(iris_x)\n",
    "print('Column Means are ', mean_x)\n",
    "print('Column Standard Deviations are ', sd_x)"
   ]
  },
  {
   "cell_type": "code",
   "execution_count": 22,
   "metadata": {},
   "outputs": [
    {
     "name": "stdout",
     "output_type": "stream",
     "text": [
      "There are 50 Iris_setosa samples\n",
      "There are 50 Iris_versicolor samples\n",
      "There are 50 Iris_virginica samples\n"
     ]
    }
   ],
   "source": [
    "### Q3\n",
    "    \n",
    "num_classes = 3\n",
    "placeholder = [None]*num_classes\n",
    "\n",
    "def class_dist(data, num_classes):\n",
    "    for i in range(num_classes):\n",
    "        placeholder[i] = np.count_nonzero(data == i+1) \n",
    "    \n",
    "class_dist(iris_y, num_classes)\n",
    "\n",
    "print(f\"There are {placeholder[0]} Iris_setosa samples\")\n",
    "print(f\"There are {placeholder[1]} Iris_versicolor samples\")\n",
    "print(f\"There are {placeholder[2]} Iris_virginica samples\")"
   ]
  },
  {
   "cell_type": "code",
   "execution_count": 23,
   "metadata": {},
   "outputs": [
    {
     "data": {
      "image/png": "[encoded data removed]",
      "text/plain": [
       "<Figure size 432x288 with 1 Axes>"
      ]
     },
     "metadata": {
      "needs_background": "light"
     },
     "output_type": "display_data"
    },
    {
     "data": {
      "image/png": "[encoded data removed]",
      "text/plain": [
       "<Figure size 432x288 with 1 Axes>"
      ]
     },
     "metadata": {
      "needs_background": "light"
     },
     "output_type": "display_data"
    },
    {
     "data": {
      "image/png": "[encoded data removed]",
      "text/plain": [
       "<Figure size 432x288 with 1 Axes>"
      ]
     },
     "metadata": {
      "needs_background": "light"
     },
     "output_type": "display_data"
    },
    {
     "data": {
      "image/png": "[encoded data removed]",
      "text/plain": [
       "<Figure size 432x288 with 1 Axes>"
      ]
     },
     "metadata": {
      "needs_background": "light"
     },
     "output_type": "display_data"
    }
   ],
   "source": [
    "### Q4 \n",
    "    \n",
    "for i in range(len(iris_x[0])):\n",
    "    name = 'figure'+str(i)\n",
    "    data = iris_x[:,i]\n",
    "    hist_plot(name,data)"
   ]
  },
  {
   "cell_type": "code",
   "execution_count": 24,
   "metadata": {},
   "outputs": [],
   "source": [
    "### Q5\n",
    "\n",
    "portion = 0.6\n",
    "\n",
    "#i Random\n",
    "\n",
    "r_x_train, r_x_test, r_y_train, r_y_test = data_split_random(iris_x, iris_y, portion)\n",
    "\n",
    "#ii Deterministic    \n",
    "\n",
    "d_x_train, d_x_test, d_y_train, d_y_test = data_split_nonrandom(iris_x, iris_y, portion)"
   ]
  },
  {
   "cell_type": "code",
   "execution_count": 25,
   "metadata": {},
   "outputs": [
    {
     "name": "stdout",
     "output_type": "stream",
     "text": [
      "Column Means for train are  [5.79444444 3.01111111 3.71111111 1.18333333]\n",
      "Column Standard Deviations for train are  [0.80503431 0.45763752 1.74435244 0.7483686 ]\n",
      "Column Means for test are  [5.91666667 3.11833333 3.83       1.22166667]\n",
      "Column Standard Deviations for test are  [0.84954236 0.38187767 1.77719817 0.77805134]\n",
      "There are 30 Iris_setosa samples in the Train set\n",
      "There are 29 Iris_versicolor samples in the Train set\n",
      "There are 31 Iris_virginica samples in the Train set\n",
      "There are 20 Iris_setosa samples in the Test set\n",
      "There are 21 Iris_versicolor samples in the Test set\n",
      "There are 19 Iris_virginica samples in the Test set\n"
     ]
    },
    {
     "data": {
      "image/png": "[encoded data removed]",
      "text/plain": [
       "<Figure size 432x288 with 1 Axes>"
      ]
     },
     "metadata": {
      "needs_background": "light"
     },
     "output_type": "display_data"
    },
    {
     "data": {
      "image/png": "[encoded data removed]",
      "text/plain": [
       "<Figure size 432x288 with 1 Axes>"
      ]
     },
     "metadata": {
      "needs_background": "light"
     },
     "output_type": "display_data"
    },
    {
     "data": {
      "image/png": "[encoded data removed]",
      "text/plain": [
       "<Figure size 432x288 with 1 Axes>"
      ]
     },
     "metadata": {
      "needs_background": "light"
     },
     "output_type": "display_data"
    },
    {
     "data": {
      "image/png": "[encoded data removed]",
      "text/plain": [
       "<Figure size 432x288 with 1 Axes>"
      ]
     },
     "metadata": {
      "needs_background": "light"
     },
     "output_type": "display_data"
    },
    {
     "data": {
      "image/png": "[encoded data removed]",
      "text/plain": [
       "<Figure size 432x288 with 1 Axes>"
      ]
     },
     "metadata": {
      "needs_background": "light"
     },
     "output_type": "display_data"
    },
    {
     "data": {
      "image/png": "[encoded data removed]",
      "text/plain": [
       "<Figure size 432x288 with 1 Axes>"
      ]
     },
     "metadata": {
      "needs_background": "light"
     },
     "output_type": "display_data"
    },
    {
     "data": {
      "image/png": "[encoded data removed]",
      "text/plain": [
       "<Figure size 432x288 with 1 Axes>"
      ]
     },
     "metadata": {
      "needs_background": "light"
     },
     "output_type": "display_data"
    },
    {
     "data": {
      "image/png": "[encoded data removed]",
      "text/plain": [
       "<Figure size 432x288 with 1 Axes>"
      ]
     },
     "metadata": {
      "needs_background": "light"
     },
     "output_type": "display_data"
    }
   ],
   "source": [
    "### Q6 with random set\n",
    "\n",
    "mean_train, sd_train = mean_sd_col(r_x_train)\n",
    "print('Column Means for train are ', mean_train)\n",
    "print('Column Standard Deviations for train are ', sd_train)\n",
    "\n",
    "mean_test, sd_test = mean_sd_col(r_x_test)\n",
    "print('Column Means for test are ', mean_test)\n",
    "print('Column Standard Deviations for test are ', sd_test)\n",
    "\n",
    "class_dist(r_y_train, num_classes)\n",
    "\n",
    "print(f\"There are {placeholder[0]} Iris_setosa samples in the Train set\")\n",
    "print(f\"There are {placeholder[1]} Iris_versicolor samples in the Train set\")\n",
    "print(f\"There are {placeholder[2]} Iris_virginica samples in the Train set\")\n",
    "\n",
    "class_dist(r_y_test, num_classes)\n",
    "\n",
    "print(f\"There are {placeholder[0]} Iris_setosa samples in the Test set\")\n",
    "print(f\"There are {placeholder[1]} Iris_versicolor samples in the Test set\")\n",
    "print(f\"There are {placeholder[2]} Iris_virginica samples in the Test set\")\n",
    "\n",
    "for i in range(len(r_x_train[0])):\n",
    "    name = 'train figure'+str(i)\n",
    "    data = r_x_train[:,i]\n",
    "    hist_plot(name,data)\n",
    "    \n",
    "for i in range(len(r_x_test[0])):\n",
    "    name = 'test figure'+str(i)\n",
    "    data = r_x_test[:,i]\n",
    "    hist_plot(name,data)\n"
   ]
  },
  {
   "cell_type": "code",
   "execution_count": 26,
   "metadata": {},
   "outputs": [],
   "source": [
    "### Q7\n",
    "subset_1 = feature_subset(1, r_x_train)[:,np.newaxis]"
   ]
  },
  {
   "cell_type": "code",
   "execution_count": 27,
   "metadata": {},
   "outputs": [
    {
     "name": "stdout",
     "output_type": "stream",
     "text": [
      "Column Means for train are  [5.49333333 3.16       2.85166667 0.78333333]\n",
      "Column Standard Deviations for train are  [0.60051829 0.50305732 1.43811122 0.56485003]\n",
      "Column Means for test are  [5.4375 2.995  2.8775 0.7875]\n",
      "Column Standard Deviations for test are  [0.69017661 0.40617115 1.44594044 0.56133212]\n",
      "There are 30 Iris_setosa samples in the Train set\n",
      "There are 30 Iris_versicolor samples in the Train set\n",
      "There are 0 Iris_virginica samples in the Train set\n",
      "There are 20 Iris_setosa samples in the Test set\n",
      "There are 20 Iris_versicolor samples in the Test set\n",
      "There are 0 Iris_virginica samples in the Test set\n"
     ]
    },
    {
     "data": {
      "image/png": "[encoded data removed]",
      "text/plain": [
       "<Figure size 432x288 with 1 Axes>"
      ]
     },
     "metadata": {
      "needs_background": "light"
     },
     "output_type": "display_data"
    },
    {
     "data": {
      "image/png": "[encoded data removed]",
      "text/plain": [
       "<Figure size 432x288 with 1 Axes>"
      ]
     },
     "metadata": {
      "needs_background": "light"
     },
     "output_type": "display_data"
    },
    {
     "data": {
      "image/png": "[encoded data removed]",
      "text/plain": [
       "<Figure size 432x288 with 1 Axes>"
      ]
     },
     "metadata": {
      "needs_background": "light"
     },
     "output_type": "display_data"
    },
    {
     "data": {
      "image/png": "[encoded data removed]",
      "text/plain": [
       "<Figure size 432x288 with 1 Axes>"
      ]
     },
     "metadata": {
      "needs_background": "light"
     },
     "output_type": "display_data"
    },
    {
     "data": {
      "image/png": "[encoded data removed]",
      "text/plain": [
       "<Figure size 432x288 with 1 Axes>"
      ]
     },
     "metadata": {
      "needs_background": "light"
     },
     "output_type": "display_data"
    },
    {
     "data": {
      "image/png": "[encoded data removed]",
      "text/plain": [
       "<Figure size 432x288 with 1 Axes>"
      ]
     },
     "metadata": {
      "needs_background": "light"
     },
     "output_type": "display_data"
    },
    {
     "data": {
      "image/png": "[encoded data removed]",
      "text/plain": [
       "<Figure size 432x288 with 1 Axes>"
      ]
     },
     "metadata": {
      "needs_background": "light"
     },
     "output_type": "display_data"
    },
    {
     "data": {
      "image/png": "[encoded data removed]",
      "text/plain": [
       "<Figure size 432x288 with 1 Axes>"
      ]
     },
     "metadata": {
      "needs_background": "light"
     },
     "output_type": "display_data"
    }
   ],
   "source": [
    "### Q8\n",
    "\n",
    "sub_train, sub_test = binary_class(iris)\n",
    "sub_x_train = sub_train[:,:4].astype(float)\n",
    "sub_y_train = sub_train[:, 4]\n",
    "sub_x_test = sub_test[:,:4].astype(float)\n",
    "sub_y_test = sub_test[:, 4]\n",
    "\n",
    "\n",
    "mean_train, sd_train = mean_sd_col(sub_x_train)\n",
    "print('Column Means for train are ', mean_train)\n",
    "print('Column Standard Deviations for train are ', sd_train)\n",
    "\n",
    "mean_test, sd_test = mean_sd_col(sub_x_test)\n",
    "print('Column Means for test are ', mean_test)\n",
    "print('Column Standard Deviations for test are ', sd_test)\n",
    "\n",
    "class_dist(sub_y_train, num_classes)\n",
    "\n",
    "print(f\"There are {placeholder[0]} Iris_setosa samples in the Train set\")\n",
    "print(f\"There are {placeholder[1]} Iris_versicolor samples in the Train set\")\n",
    "print(f\"There are {placeholder[2]} Iris_virginica samples in the Train set\")\n",
    "\n",
    "class_dist(sub_y_test, num_classes)\n",
    "\n",
    "print(f\"There are {placeholder[0]} Iris_setosa samples in the Test set\")\n",
    "print(f\"There are {placeholder[1]} Iris_versicolor samples in the Test set\")\n",
    "print(f\"There are {placeholder[2]} Iris_virginica samples in the Test set\")\n",
    "\n",
    "for i in range(len(sub_x_train[0])):\n",
    "    name = 'train sub figure'+str(i)\n",
    "    data = sub_x_train[:,i]\n",
    "    hist_plot(name,data)\n",
    "    \n",
    "for i in range(len(sub_x_test[0])):\n",
    "    name = 'test sub figure'+str(i)\n",
    "    data = sub_x_test[:,i]\n",
    "    hist_plot(name,data)"
   ]
  },
  {
   "cell_type": "code",
   "execution_count": 28,
   "metadata": {},
   "outputs": [],
   "source": [
    "### Q9 \n",
    "    \n",
    "normal_x = minmaxnormal(iris_x)"
   ]
  }
 ],
 "metadata": {
  "kernelspec": {
   "display_name": "base",
   "language": "python",
   "name": "python3"
  },
  "language_info": {
   "codemirror_mode": {
    "name": "ipython",
    "version": 3
   },
   "file_extension": ".py",
   "mimetype": "text/x-python",
   "name": "python",
   "nbconvert_exporter": "python",
   "pygments_lexer": "ipython3",
   "version": "3.8.12"
  }
 },
 "nbformat": 4,
 "nbformat_minor": 2
}
