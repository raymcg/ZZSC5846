{
 "cells": [
  {
   "cell_type": "markdown",
   "metadata": {},
   "source": [
    "# Import Libraries"
   ]
  },
  {
   "cell_type": "code",
   "execution_count": 1,
   "metadata": {},
   "outputs": [],
   "source": [
    "import numpy as np \n",
    "\n",
    "import matplotlib.pyplot as plt\n",
    "\n",
    "from sklearn import datasets, linear_model\n",
    "from sklearn.metrics import mean_squared_error, r2_score\n",
    "\n",
    "import random"
   ]
  },
  {
   "cell_type": "markdown",
   "metadata": {},
   "source": [
    "# Import Data"
   ]
  },
  {
   "cell_type": "code",
   "execution_count": 2,
   "metadata": {},
   "outputs": [],
   "source": [
    "def get_data():\n",
    "    #Source: University of California. (n.d). Machine-learning-databases. http://archive.ics.uci.edu/ml/machine-learning-databases/housing/\n",
    "    #Source: University of California. (n.d). Machine learning repository. http://archive.ics.uci.edu/ml/datasets/iris \n",
    "    #Source: Iris flower dataset. (2020). Wikipedia. https://en.wikipedia.org/wiki/Iris_flower_data_set\n",
    " \n",
    "    #house_data = datasets.load_boston() #Scikit-learn provides a handy description of the dataset, and it can be easily viewed by:\n",
    "    #Print (data.DESCR) \n",
    "    #Print (data) \n",
    "\n",
    "    diabetes = datasets.load_diabetes() \n",
    "\n",
    "    data_input = diabetes.data[:, np.newaxis, 2] \n",
    "\n",
    "    x_train = data_input[:-20]\n",
    "    x_test = data_input[-20:]\n",
    "\n",
    "    # Split the targets into training/testing sets\n",
    "    y_train = diabetes.target[:-20]\n",
    "    y_test = diabetes.target[-20:]\n",
    "\n",
    "    # Split the data into training/testing sets\n",
    "\n",
    "    return x_train, x_test, y_train, y_test\n",
    "\n",
    "def generate_syntheticdata():\n",
    "\n",
    "    data_x = np.linspace(1.0, 10.0, 100)[:, np.newaxis]\n",
    "    #Print(data_x, ' ** ')\n",
    "    data_y = np.sin(data_x) + 0.1 * np.power(data_x, 2) + 0.5 * np.random.randn(100, 1)\n",
    "    #Print(data_y, ' **** ')\n",
    "    \n",
    "    data_x /= np.max(data_x) \n",
    "    data_x = np.hstack((np.ones_like(data_x), data_x))\n",
    "\n",
    "    order = np.random.permutation(len(data_x))\n",
    "    portion = 20\n",
    "    x_test = data_x[order[:portion]]\n",
    "    y_test = data_y[order[:portion]]\n",
    "    x_train = data_x[order[portion:]]\n",
    "    y_train = data_y[order[portion:]]\n",
    "\n",
    "    return x_train, x_test, y_train, y_test"
   ]
  },
  {
   "cell_type": "markdown",
   "metadata": {},
   "source": [
    "# Scratch Calc Functions"
   ]
  },
  {
   "cell_type": "code",
   "execution_count": 3,
   "metadata": {},
   "outputs": [],
   "source": [
    "def get_gradient(w, x, y):\n",
    "    #Source: Frossard, D. (2016). Linear Regression with NumPy. https://www.cs.toronto.edu/~frossard/post/linear_regression/\n",
    "    y_estimate = x.dot(w).flatten()\n",
    "    error = (y.flatten() - y_estimate)\n",
    "    gradient = -(1.0/len(x)) * error.dot(x)\n",
    "    return gradient, np.power(error, 2)\n",
    "\n"
   ]
  },
  {
   "cell_type": "code",
   "execution_count": 4,
   "metadata": {},
   "outputs": [],
   "source": [
    "def numpy_linear_mod(x_train, x_test, y_train, y_test):\n",
    "    #Source:  Frossard, D. (2016). Linear Regression with NumPy. https://www.cs.toronto.edu/~frossard/post/linear_regression/\n",
    "    print(' running numpy linear model')\n",
    "    w = np.random.randn(2)\n",
    "    alpha = 0.5\n",
    "    tolerance = 1e-5\n",
    "\n",
    "    # Perform Gradient Descent\n",
    "    iterations = 1\n",
    "    while True:\n",
    "        gradient, error = get_gradient(w, x_train, y_train)\n",
    "        new_w = w - alpha * gradient\n",
    "        # Stopping Condition\n",
    "        if np.sum(abs(new_w - w)) < tolerance:\n",
    "            print(\"Converged.\")\n",
    "            break\n",
    "    \n",
    "        # Print error every 50 iterations\n",
    "        if iterations % 5 == 0:\n",
    "            mean_squared_error =  np.sum(error)/error.shape\n",
    "            print(iterations, mean_squared_error)\n",
    "    \n",
    "        iterations += 1\n",
    "        w = new_w"
   ]
  },
  {
   "cell_type": "markdown",
   "metadata": {},
   "source": [
    "# Scipy Linear Model"
   ]
  },
  {
   "cell_type": "code",
   "execution_count": 5,
   "metadata": {},
   "outputs": [],
   "source": [
    "def scipy_linear_mod(x_train, x_test, y_train, y_test):\n",
    "    #Source: Scikit Learn. (n.d). Linear Regression Example. https://scikit-learn.org/stable/auto_examples/linear_model/plot_ols.html \n",
    "\n",
    "    print(' running scipy linear model')\n",
    "\n",
    "    regr = linear_model.LinearRegression()\n",
    "\n",
    "\n",
    "    # Create linear regression object\n",
    "\n",
    "    # Train the model using the training sets\n",
    "    regr.fit(x_train, y_train)\n",
    "\n",
    "    # Make predictions using the testing set\n",
    "    y_pred = regr.predict(x_test)\n",
    "\n",
    "    # The coefficients\n",
    "    print('Coefficients: \\n', regr.coef_)\n",
    "    # The mean squared error\n",
    "    print(\"Mean squared error: %.2f\" % mean_squared_error(y_test, y_pred))\n",
    "    # Explained variance score: 1 is perfect prediction\n",
    "    print('Variance score: %.2f' % r2_score(y_test, y_pred))\n",
    "\n",
    "    # Plot outputs\n",
    "    plt.scatter(x_test, y_test,  color='black')\n",
    "    plt.plot(x_test, y_pred, color='blue', linewidth=3)\n",
    "\n",
    "    plt.xticks(())\n",
    "    plt.yticks(())\n",
    "\n",
    "    plt.savefig('resultlinear_reg.png')\n",
    "    plt.show()"
   ]
  },
  {
   "cell_type": "markdown",
   "metadata": {},
   "source": [
    "# Main"
   ]
  },
  {
   "cell_type": "code",
   "execution_count": 16,
   "metadata": {},
   "outputs": [
    {
     "name": "stdout",
     "output_type": "stream",
     "text": [
      "(422, 1)\n",
      "x_train[i]=array([0.06169621]), y_train[i]=151.0\n",
      "x_train[i]=array([-0.05147406]), y_train[i]=75.0\n",
      "x_train[i]=array([0.04445121]), y_train[i]=141.0\n",
      "x_train[i]=array([-0.01159501]), y_train[i]=206.0\n",
      "x_train[i]=array([-0.03638469]), y_train[i]=135.0\n"
     ]
    }
   ],
   "source": [
    "x_train, x_test, y_train, y_test = get_data()\n",
    "\n",
    "    #print(x_train, ' x_train')\n",
    "    #print(y_train, ' y_train')\n",
    "    #print(x_test, ' x_test')\n",
    "\n",
    "print(x_train.shape)\n",
    "for i in range(5):\n",
    "    print(f\"{x_train[i]=}, {y_train[i]=}\")\n"
   ]
  },
  {
   "cell_type": "code",
   "execution_count": 7,
   "metadata": {},
   "outputs": [
    {
     "name": "stdout",
     "output_type": "stream",
     "text": [
      " running scipy linear model\n",
      "Coefficients: \n",
      " [938.23786125]\n",
      "Mean squared error: 2548.07\n",
      "Variance score: 0.47\n"
     ]
    },
    {
     "data": {
      "image/png": "[encoded data removed]",
      "text/plain": [
       "<Figure size 432x288 with 1 Axes>"
      ]
     },
     "metadata": {},
     "output_type": "display_data"
    }
   ],
   "source": [
    "scipy_linear_mod(x_train, x_test, y_train, y_test)"
   ]
  },
  {
   "cell_type": "code",
   "execution_count": 8,
   "metadata": {},
   "outputs": [],
   "source": [
    "x_train, x_test, y_train, y_test = generate_syntheticdata()\n",
    "\n",
    "#print(x_train, ' x_train')\n",
    "#print(y_train, ' y_train')\n",
    "#print(x_test, ' x_test')\n",
    "#print(y_test, ' x_test')"
   ]
  },
  {
   "cell_type": "code",
   "execution_count": 14,
   "metadata": {},
   "outputs": [
    {
     "name": "stdout",
     "output_type": "stream",
     "text": [
      "80\n",
      "x_train[i]=array([1.        , 0.67272727]), y_train[i]=array([4.7485848])\n",
      "x_train[i]=array([1.        , 0.20909091]), y_train[i]=array([0.8202659])\n",
      "x_train[i]=array([1.        , 0.47272727]), y_train[i]=array([0.79583413])\n",
      "x_train[i]=array([1.        , 0.25454545]), y_train[i]=array([0.80200111])\n",
      "x_train[i]=array([1.        , 0.19090909]), y_train[i]=array([1.36688418])\n"
     ]
    }
   ],
   "source": [
    "print(len(x_train))\n",
    "for i in range(5):\n",
    "    print(f\"{x_train[i]=}, {y_train[i]=}\")\n"
   ]
  },
  {
   "cell_type": "code",
   "execution_count": null,
   "metadata": {},
   "outputs": [],
   "source": []
  },
  {
   "cell_type": "code",
   "execution_count": 9,
   "metadata": {},
   "outputs": [
    {
     "name": "stdout",
     "output_type": "stream",
     "text": [
      " running numpy linear model\n",
      "5 [7.06959616]\n",
      "10 [5.77643882]\n",
      "15 [4.7746968]\n",
      "20 [3.99601362]\n",
      "25 [3.39072053]\n",
      "30 [2.92020858]\n",
      "35 [2.55446596]\n",
      "40 [2.27016357]\n",
      "45 [2.04916704]\n",
      "50 [1.87738001]\n",
      "55 [1.74384496]\n",
      "60 [1.64004427]\n",
      "65 [1.55935697]\n",
      "70 [1.49663639]\n",
      "75 [1.44788185]\n",
      "80 [1.40998353]\n",
      "85 [1.38052407]\n",
      "90 [1.35762437]\n",
      "95 [1.33982376]\n",
      "100 [1.32598684]\n",
      "105 [1.31523099]\n",
      "110 [1.30687016]\n",
      "115 [1.30037104]\n",
      "120 [1.29531908]\n",
      "125 [1.29139205]\n",
      "130 [1.28833946]\n",
      "135 [1.28596659]\n",
      "140 [1.28412208]\n",
      "145 [1.2826883]\n",
      "150 [1.28157378]\n",
      "155 [1.28070742]\n",
      "160 [1.28003398]\n",
      "165 [1.2795105]\n",
      "170 [1.27910358]\n",
      "175 [1.27878727]\n",
      "180 [1.27854139]\n",
      "185 [1.27835027]\n",
      "190 [1.2782017]\n",
      "195 [1.27808621]\n",
      "200 [1.27799644]\n",
      "205 [1.27792666]\n",
      "210 [1.27787241]\n",
      "215 [1.27783025]\n",
      "220 [1.27779747]\n",
      "225 [1.27777199]\n",
      "230 [1.27775219]\n",
      "235 [1.27773679]\n",
      "240 [1.27772483]\n",
      "245 [1.27771552]\n",
      "250 [1.27770829]\n",
      "255 [1.27770267]\n",
      "260 [1.2776983]\n",
      "265 [1.27769491]\n",
      "270 [1.27769227]\n",
      "275 [1.27769022]\n",
      "280 [1.27768862]\n",
      "285 [1.27768738]\n",
      "290 [1.27768642]\n",
      "295 [1.27768567]\n",
      "300 [1.27768508]\n",
      "305 [1.27768463]\n",
      "310 [1.27768428]\n",
      "315 [1.27768401]\n",
      "320 [1.27768379]\n",
      "325 [1.27768363]\n",
      "330 [1.2776835]\n",
      "335 [1.2776834]\n",
      "340 [1.27768332]\n",
      "345 [1.27768326]\n",
      "350 [1.27768322]\n",
      "355 [1.27768318]\n",
      "360 [1.27768315]\n",
      "365 [1.27768313]\n",
      "370 [1.27768311]\n",
      "375 [1.2776831]\n",
      "380 [1.27768309]\n",
      "385 [1.27768308]\n",
      "390 [1.27768307]\n",
      "395 [1.27768307]\n",
      "400 [1.27768306]\n",
      "405 [1.27768306]\n",
      "410 [1.27768306]\n",
      "415 [1.27768306]\n",
      "420 [1.27768306]\n",
      "Converged.\n"
     ]
    }
   ],
   "source": [
    "numpy_linear_mod(x_train, x_test, y_train, y_test)"
   ]
  }
 ],
 "metadata": {
  "kernelspec": {
   "display_name": "base",
   "language": "python",
   "name": "python3"
  },
  "language_info": {
   "codemirror_mode": {
    "name": "ipython",
    "version": 3
   },
   "file_extension": ".py",
   "mimetype": "text/x-python",
   "name": "python",
   "nbconvert_exporter": "python",
   "pygments_lexer": "ipython3",
   "version": "3.8.12"
  }
 },
 "nbformat": 4,
 "nbformat_minor": 2
}
